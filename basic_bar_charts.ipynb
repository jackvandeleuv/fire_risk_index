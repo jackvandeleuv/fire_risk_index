{
 "cells": [
  {
   "cell_type": "code",
   "execution_count": 1,
   "metadata": {},
   "outputs": [],
   "source": [
    "import pandas as pd\n",
    "import sqlite3\n",
    "import matplotlib.pyplot as plt\n",
    "import numpy as np\n",
    "import re\n",
    "import seaborn as sns\n",
    "import time\n",
    "import requests\n",
    "from sklearn.preprocessing import LabelEncoder\n",
    "from matplotlib.ticker import FuncFormatter\n",
    "\n",
    "pd.set_option('display.max_columns', None)"
   ]
  },
  {
   "cell_type": "code",
   "execution_count": 2,
   "metadata": {},
   "outputs": [],
   "source": [
    "m = pd.read_csv('./ph_fires_matched_2.1.csv')"
   ]
  },
  {
   "cell_type": "code",
   "execution_count": 3,
   "metadata": {},
   "outputs": [],
   "source": [
    "m['unconfined_damaging'] = m[[f'inc_type_111_{x}' for x in range(2012, 2022)]].sum(axis=1) + m[[f'cont_loss_{x}' for x in range(2012, 2022)]].sum(axis=1) + m[[f'prop_loss_{x}' for x in range(2012, 2022)]].sum(axis=1) + m[[f'oth_inj_{x}' for x in range(2012, 2022)]].sum(axis=1) + m[[f'oth_death_{x}' for x in range(2012, 2022)]].sum(axis=1)\n",
    "m['total_indoor'] = m[[f'building_fires_{x}' for x in range(2012, 2022)]].sum(axis=1)\n",
    "m['total_111'] = m[[f'inc_type_111_{x}' for x in range(2012, 2022)]].sum(axis=1)\n",
    "m['total_money_lost'] = m[[f'prop_loss_{x}' for x in range(2012, 2022)]].sum(axis=1) + m[[f'cont_loss_{x}' for x in range(2012, 2022)]].sum(axis=1)\n",
    "m['total_deaths_plus_injuries'] = m[[f'oth_inj_{x}' for x in range(2012, 2022)]].sum(axis=1) + m[[f'oth_death_{x}' for x in range(2012, 2022)]].sum(axis=1)"
   ]
  },
  {
   "cell_type": "code",
   "execution_count": 4,
   "metadata": {},
   "outputs": [
    {
     "data": {
      "text/plain": [
       "646"
      ]
     },
     "execution_count": 4,
     "metadata": {},
     "output_type": "execute_result"
    }
   ],
   "source": [
    "m[(m.building_type_code_es == 1) & \n",
    "  (m.unconfined_damaging > 0)].shape[0]"
   ]
  },
  {
   "cell_type": "code",
   "execution_count": 5,
   "metadata": {},
   "outputs": [
    {
     "data": {
      "text/plain": [
       "115.26625386996903"
      ]
     },
     "execution_count": 5,
     "metadata": {},
     "output_type": "execute_result"
    }
   ],
   "source": [
    "m[(m.building_type_code_es == 1) & \n",
    "  (m.unconfined_damaging > 0)].total_units.mean()"
   ]
  },
  {
   "cell_type": "code",
   "execution_count": 6,
   "metadata": {},
   "outputs": [
    {
     "data": {
      "text/plain": [
       "103.05026611472502"
      ]
     },
     "execution_count": 6,
     "metadata": {},
     "output_type": "execute_result"
    }
   ],
   "source": [
    "m[(m.building_type_code_es == 1) & \n",
    "  (m.total_indoor > 0)].total_units.mean()"
   ]
  },
  {
   "cell_type": "code",
   "execution_count": null,
   "metadata": {},
   "outputs": [
    {
     "data": {
      "text/plain": [
       "89.23750310867943"
      ]
     },
     "execution_count": 7,
     "metadata": {},
     "output_type": "execute_result"
    }
   ],
   "source": [
    "m[(m.building_type_code_es == 1)].total_units.mean()"
   ]
  },
  {
   "cell_type": "code",
   "execution_count": 13,
   "metadata": {},
   "outputs": [],
   "source": [
    "for year in range(2012, 2022):\n",
    "    m['money_lost_' + str(year)] = m[f'prop_loss_{year}'] + m[f'cont_loss_{year}'] "
   ]
  },
  {
   "cell_type": "code",
   "execution_count": 17,
   "metadata": {},
   "outputs": [
    {
     "data": {
      "text/plain": [
       "4150524.1"
      ]
     },
     "execution_count": 17,
     "metadata": {},
     "output_type": "execute_result"
    }
   ],
   "source": [
    "m[[x for x in m.columns if 'money_lost_' in x]].sum().mean()"
   ]
  },
  {
   "cell_type": "code",
   "execution_count": 22,
   "metadata": {},
   "outputs": [
    {
     "data": {
      "text/plain": [
       "oth_death_2012    1.0\n",
       "oth_death_2013    1.0\n",
       "oth_death_2014    0.0\n",
       "oth_death_2015    1.0\n",
       "oth_death_2016    0.0\n",
       "oth_death_2017    1.0\n",
       "oth_death_2018    2.0\n",
       "oth_death_2019    1.0\n",
       "oth_death_2020    2.0\n",
       "oth_death_2021    1.0\n",
       "dtype: float64"
      ]
     },
     "execution_count": 22,
     "metadata": {},
     "output_type": "execute_result"
    }
   ],
   "source": [
    "m[[x for x in m.columns if 'oth_death_' in x]].sum()"
   ]
  },
  {
   "cell_type": "code",
   "execution_count": 8,
   "metadata": {},
   "outputs": [
    {
     "name": "stdout",
     "output_type": "stream",
     "text": [
      "Correlation Coefficient: 0.3003544736202646\n",
      "P-Value: 0.0\n"
     ]
    }
   ],
   "source": [
    "from scipy.stats import pearsonr\n",
    "\n",
    "# Calculate the correlation coefficient\n",
    "correlation_coefficient = m['total_indoor'].corr(m['total_111'])\n",
    "\n",
    "# Calculate the correlation coefficient and p-value using scipy\n",
    "corr_coefficient, p_value = pearsonr(m['total_indoor'], m['total_111'])\n",
    "\n",
    "print(\"Correlation Coefficient:\", corr_coefficient)\n",
    "print(\"P-Value:\", p_value)\n"
   ]
  },
  {
   "cell_type": "code",
   "execution_count": 9,
   "metadata": {},
   "outputs": [
    {
     "data": {
      "image/png": "[encoded data removed]",
      "text/plain": [
       "<Figure size 1600x900 with 1 Axes>"
      ]
     },
     "metadata": {},
     "output_type": "display_data"
    }
   ],
   "source": [
    "unconfined_fires_gt_0 = m[m['unconfined_damaging'] > 0]['total_indoor'].mean()\n",
    "unconfined_fires_eq_0 = m[m['unconfined_damaging'] == 0]['total_indoor'].mean()\n",
    "\n",
    "# Values for the bars\n",
    "values = [unconfined_fires_gt_0, unconfined_fires_eq_0]\n",
    "\n",
    "# Labels for the bars\n",
    "labels = ['Unconfined/Damaging > 0', 'Unconfined/Damaging = 0']\n",
    "\n",
    "plt.figure(figsize=(16, 9))\n",
    "bars = plt.bar(labels, values, color=['red', 'blue'])\n",
    "plt.title('Number of Fires')\n",
    "plt.ylabel('Count')\n",
    "plt.xlabel('Categories')\n",
    "\n",
    "# Adding the mean values to the top of each bar\n",
    "for bar, value in zip(bars, values):\n",
    "    plt.text(bar.get_x() + bar.get_width() / 2 - 0.15,\n",
    "             bar.get_height() + 0.02,\n",
    "             f'{value:.2f}',\n",
    "             ha='center',\n",
    "             color='black',\n",
    "             fontsize=12)\n",
    "\n",
    "plt.show()\n"
   ]
  }
 ],
 "metadata": {
  "kernelspec": {
   "display_name": "base",
   "language": "python",
   "name": "python3"
  },
  "language_info": {
   "codemirror_mode": {
    "name": "ipython",
    "version": 3
   },
   "file_extension": ".py",
   "mimetype": "text/x-python",
   "name": "python",
   "nbconvert_exporter": "python",
   "pygments_lexer": "ipython3",
   "version": "3.10.9"
  },
  "orig_nbformat": 4
 },
 "nbformat": 4,
 "nbformat_minor": 2
}
