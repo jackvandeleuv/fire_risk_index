{
 "cells": [
  {
   "cell_type": "code",
   "execution_count": 5,
   "metadata": {},
   "outputs": [],
   "source": [
    "import pandas as pd\n",
    "import sqlite3\n",
    "import matplotlib.pyplot as plt\n",
    "import seaborn as sns\n",
    "\n",
    "pd.set_option('display.max_columns', None)\n",
    "\n",
    "conn = sqlite3.Connection('D:/Fire Project/data/processed/fire_data.db')"
   ]
  },
  {
   "cell_type": "code",
   "execution_count": 6,
   "metadata": {},
   "outputs": [
    {
     "data": {
      "text/plain": [
       "[('incident_address',), ('basic_incident',)]"
      ]
     },
     "execution_count": 6,
     "metadata": {},
     "output_type": "execute_result"
    }
   ],
   "source": [
    "cur = conn.cursor()\n",
    "cur.execute(\"SELECT name FROM sqlite_master WHERE type='table'\")\n",
    "cur.fetchall()"
   ]
  },
  {
   "cell_type": "code",
   "execution_count": 7,
   "metadata": {},
   "outputs": [
    {
     "data": {
      "text/html": [
       "<div>\n",
       "<style scoped>\n",
       "    .dataframe tbody tr th:only-of-type {\n",
       "        vertical-align: middle;\n",
       "    }\n",
       "\n",
       "    .dataframe tbody tr th {\n",
       "        vertical-align: top;\n",
       "    }\n",
       "\n",
       "    .dataframe thead th {\n",
       "        text-align: right;\n",
       "    }\n",
       "</style>\n",
       "<table border=\"1\" class=\"dataframe\">\n",
       "  <thead>\n",
       "    <tr style=\"text-align: right;\">\n",
       "      <th></th>\n",
       "      <th>ID</th>\n",
       "      <th>STATE</th>\n",
       "      <th>FDID</th>\n",
       "      <th>INC_DATE</th>\n",
       "      <th>INC_NO</th>\n",
       "      <th>EXP_NO</th>\n",
       "      <th>VERSION</th>\n",
       "      <th>DEPT_STA</th>\n",
       "      <th>INC_TYPE</th>\n",
       "      <th>ADD_WILD</th>\n",
       "      <th>AID</th>\n",
       "      <th>ALARM</th>\n",
       "      <th>ARRIVAL</th>\n",
       "      <th>INC_CONT</th>\n",
       "      <th>LU_CLEAR</th>\n",
       "      <th>SHIFT</th>\n",
       "      <th>ALARMS</th>\n",
       "      <th>DISTRICT</th>\n",
       "      <th>ACT_TAK1</th>\n",
       "      <th>ACT_TAK2</th>\n",
       "      <th>ACT_TAK3</th>\n",
       "      <th>APP_MOD</th>\n",
       "      <th>SUP_APP</th>\n",
       "      <th>EMS_APP</th>\n",
       "      <th>OTH_APP</th>\n",
       "      <th>SUP_PER</th>\n",
       "      <th>EMS_PER</th>\n",
       "      <th>OTH_PER</th>\n",
       "      <th>RESOU_AID</th>\n",
       "      <th>PROP_LOSS</th>\n",
       "      <th>CONT_LOSS</th>\n",
       "      <th>PROP_VAL</th>\n",
       "      <th>CONT_VAL</th>\n",
       "      <th>FF_DEATH</th>\n",
       "      <th>OTH_DEATH</th>\n",
       "      <th>FF_INJ</th>\n",
       "      <th>OTH_INJ</th>\n",
       "      <th>DET_ALERT</th>\n",
       "      <th>HAZ_REL</th>\n",
       "      <th>MIXED_USE</th>\n",
       "      <th>PROP_USE</th>\n",
       "      <th>CENSUS</th>\n",
       "      <th>INCIDENT_KEY</th>\n",
       "    </tr>\n",
       "  </thead>\n",
       "  <tbody>\n",
       "    <tr>\n",
       "      <th>0</th>\n",
       "      <td>1</td>\n",
       "      <td>AK</td>\n",
       "      <td>11100</td>\n",
       "      <td>1012020</td>\n",
       "      <td>20001</td>\n",
       "      <td>0</td>\n",
       "      <td>5.0</td>\n",
       "      <td>2</td>\n",
       "      <td>561</td>\n",
       "      <td>N</td>\n",
       "      <td>N</td>\n",
       "      <td>10120200037</td>\n",
       "      <td>10120200046.0</td>\n",
       "      <td>None</td>\n",
       "      <td>1.012020e+10</td>\n",
       "      <td>C</td>\n",
       "      <td>None</td>\n",
       "      <td>11</td>\n",
       "      <td>11.0</td>\n",
       "      <td>80</td>\n",
       "      <td>None</td>\n",
       "      <td>Y</td>\n",
       "      <td>0</td>\n",
       "      <td>0</td>\n",
       "      <td>2</td>\n",
       "      <td>0</td>\n",
       "      <td>0</td>\n",
       "      <td>4</td>\n",
       "      <td>N</td>\n",
       "      <td>0.0</td>\n",
       "      <td>0.0</td>\n",
       "      <td>0.0</td>\n",
       "      <td>0.0</td>\n",
       "      <td>0.0</td>\n",
       "      <td>None</td>\n",
       "      <td>0.0</td>\n",
       "      <td>None</td>\n",
       "      <td>None</td>\n",
       "      <td>N</td>\n",
       "      <td>NN</td>\n",
       "      <td>965</td>\n",
       "      <td>None</td>\n",
       "      <td>AK_11100_01012020_20001_0</td>\n",
       "    </tr>\n",
       "  </tbody>\n",
       "</table>\n",
       "</div>"
      ],
      "text/plain": [
       "   ID STATE   FDID INC_DATE  INC_NO  EXP_NO  VERSION DEPT_STA  INC_TYPE  \\\n",
       "0   1    AK  11100  1012020   20001       0      5.0        2       561   \n",
       "\n",
       "  ADD_WILD AID        ALARM        ARRIVAL INC_CONT      LU_CLEAR SHIFT  \\\n",
       "0        N   N  10120200037  10120200046.0     None  1.012020e+10     C   \n",
       "\n",
       "  ALARMS  DISTRICT  ACT_TAK1  ACT_TAK2 ACT_TAK3 APP_MOD  SUP_APP  EMS_APP  \\\n",
       "0   None        11      11.0        80     None       Y        0        0   \n",
       "\n",
       "   OTH_APP  SUP_PER  EMS_PER  OTH_PER RESOU_AID  PROP_LOSS  CONT_LOSS  \\\n",
       "0        2        0        0        4         N        0.0        0.0   \n",
       "\n",
       "   PROP_VAL  CONT_VAL  FF_DEATH OTH_DEATH  FF_INJ OTH_INJ DET_ALERT HAZ_REL  \\\n",
       "0       0.0       0.0       0.0      None     0.0    None      None       N   \n",
       "\n",
       "  MIXED_USE  PROP_USE CENSUS               INCIDENT_KEY  \n",
       "0        NN       965   None  AK_11100_01012020_20001_0  "
      ]
     },
     "execution_count": 7,
     "metadata": {},
     "output_type": "execute_result"
    }
   ],
   "source": [
    "pd.read_sql_query(\"\"\"\n",
    "    select *\n",
    "                  from basic_incident\n",
    "                  limit 1\n",
    "\"\"\", conn)"
   ]
  }
 ],
 "metadata": {
  "kernelspec": {
   "display_name": ".venv",
   "language": "python",
   "name": "python3"
  },
  "language_info": {
   "codemirror_mode": {
    "name": "ipython",
    "version": 3
   },
   "file_extension": ".py",
   "mimetype": "text/x-python",
   "name": "python",
   "nbconvert_exporter": "python",
   "pygments_lexer": "ipython3",
   "version": "3.12.3"
  }
 },
 "nbformat": 4,
 "nbformat_minor": 2
}
