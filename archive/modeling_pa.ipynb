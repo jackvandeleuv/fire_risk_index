{
  "cells": [
    {
      "cell_type": "code",
      "execution_count": 206,
      "metadata": {
        "colab": {
          "base_uri": "https://localhost:8080/"
        },
        "id": "czWViqLVUaFp",
        "outputId": "e866fea1-1fb1-4ce6-9c34-88190217c41c"
      },
      "outputs": [
        {
          "output_type": "stream",
          "name": "stdout",
          "text": [
            "Drive already mounted at /content/gdrive; to attempt to forcibly remount, call drive.mount(\"/content/gdrive\", force_remount=True).\n"
          ]
        }
      ],
      "source": [
        "import pandas as pd\n",
        "import sqlite3\n",
        "import matplotlib.pyplot as plt\n",
        "import numpy as np\n",
        "import re\n",
        "import seaborn as sns\n",
        "import time\n",
        "import requests\n",
        "from sklearn.preprocessing import LabelEncoder\n",
        "from sklearn.metrics import r2_score\n",
        "\n",
        "pd.set_option('display.max_columns', None)\n",
        "\n",
        "from google.colab import drive\n",
        "drive.mount('/content/gdrive')\n",
        "path = '/content/gdrive/MyDrive/'"
      ]
    },
    {
      "cell_type": "code",
      "execution_count": 207,
      "metadata": {
        "id": "UfxA4mjTUaFt"
      },
      "outputs": [],
      "source": [
        "df = pd.read_csv(path + './pa_fires_in_ph_clean.csv')"
      ]
    },
    {
      "cell_type": "code",
      "execution_count": 208,
      "metadata": {
        "id": "LCxLk6_RUaFu"
      },
      "outputs": [],
      "source": [
        "df = df.fillna(df.mean())\n",
        "df = df.dropna(axis=1, how='all')\n"
      ]
    },
    {
      "cell_type": "code",
      "source": [
        "df['house+cooking'] = df.house_fires + df.cooking_fires\n",
        "df['house+cooking_20-21'] = df['house_fires_20-21'] + df['cooking_fires_20-21']"
      ],
      "metadata": {
        "id": "GBg8Pqkgie4Q"
      },
      "execution_count": 209,
      "outputs": []
    },
    {
      "cell_type": "code",
      "source": [
        "target_cols = ['all_fires', 'all_fires_20-21', 'house_fires_20-21', 'cooking_fires',\n",
        "               'cooking_fires_20-21', 'house_fires', 'house+cooking_20-21', 'house+cooking']\n",
        "for col in target_cols:\n",
        "  df[col] = df[col] > 0"
      ],
      "metadata": {
        "id": "telUaTVqWFR1"
      },
      "execution_count": 210,
      "outputs": []
    },
    {
      "cell_type": "code",
      "execution_count": 211,
      "metadata": {
        "id": "mjeN4wAcUaFu"
      },
      "outputs": [],
      "source": [
        "from sklearn.preprocessing import StandardScaler\n",
        "\n",
        "X = df.drop(columns=target_cols, axis=1)\n",
        "y = df['house+cooking']"
      ]
    },
    {
      "cell_type": "code",
      "execution_count": 212,
      "metadata": {
        "colab": {
          "base_uri": "https://localhost:8080/"
        },
        "id": "VUhg-yeKUaFv",
        "outputId": "6a11e37b-6928-4f2a-b918-c8ad89768b46"
      },
      "outputs": [
        {
          "output_type": "stream",
          "name": "stdout",
          "text": [
            "Fitting 5 folds for each of 50 candidates, totalling 250 fits\n"
          ]
        }
      ],
      "source": [
        "from sklearn.ensemble import RandomForestClassifier\n",
        "from sklearn.model_selection import train_test_split\n",
        "from imblearn.over_sampling import SMOTE\n",
        "from sklearn.model_selection import RandomizedSearchCV\n",
        "\n",
        "X_train, X_test, y_train, y_test = train_test_split(X, y, test_size=0.2, random_state=42)\n",
        "\n",
        "scaler = StandardScaler()\n",
        "X_train_scaled = scaler.fit_transform(X_train)\n",
        "X_test_scaled = scaler.transform(X_test)\n",
        "\n",
        "sm = SMOTE(random_state=42)\n",
        "X_train_resampled, y_train_resampled = sm.fit_resample(X_train_scaled, y_train)\n",
        "\n",
        "param_dist = {\n",
        "    'n_estimators': [10, 50, 100, 200, 500],\n",
        "    'max_features': ['auto', 'sqrt', 'log2'],\n",
        "    'max_depth': [None] + list(np.arange(3, 20)),\n",
        "    'min_samples_split': np.arange(2, 11),\n",
        "    'min_samples_leaf': np.arange(1, 11),\n",
        "    'bootstrap': [True, False],\n",
        "    'criterion': ['gini', 'entropy']\n",
        "}\n",
        "\n",
        "rf = RandomForestClassifier(random_state=538)\n",
        "\n",
        "random_search = RandomizedSearchCV(\n",
        "    rf,\n",
        "    param_distributions=param_dist,\n",
        "    n_iter=50,\n",
        "    scoring='recall',\n",
        "    cv=5,\n",
        "    n_jobs=-1,\n",
        "    random_state=42,\n",
        "    verbose=2\n",
        ")\n",
        "\n",
        "random_search.fit(X_train_resampled, y_train_resampled)\n",
        "\n",
        "rf = random_search.best_estimator_"
      ]
    },
    {
      "cell_type": "code",
      "source": [
        "print(random_search.best_params_)"
      ],
      "metadata": {
        "colab": {
          "base_uri": "https://localhost:8080/"
        },
        "id": "wRPzrz2qoJE1",
        "outputId": "a98f1ed1-c9bb-402e-a29e-63553a00b016"
      },
      "execution_count": 224,
      "outputs": [
        {
          "output_type": "stream",
          "name": "stdout",
          "text": [
            "{'n_estimators': 500, 'min_samples_split': 5, 'min_samples_leaf': 1, 'max_features': 'sqrt', 'max_depth': 16, 'criterion': 'gini', 'bootstrap': False}\n"
          ]
        }
      ]
    },
    {
      "cell_type": "code",
      "execution_count": 213,
      "metadata": {
        "id": "O5ZcwWHUUaFv"
      },
      "outputs": [],
      "source": [
        "y_pred = rf.predict(X_test_scaled)"
      ]
    },
    {
      "cell_type": "code",
      "source": [
        "from sklearn.metrics import classification_report\n",
        "\n",
        "report = classification_report(y_test, y_pred)\n",
        "print(report)"
      ],
      "metadata": {
        "colab": {
          "base_uri": "https://localhost:8080/"
        },
        "id": "rTPBy3_cWjTg",
        "outputId": "74bcd5d3-be05-4d07-9bd3-7ae8ca7f1954"
      },
      "execution_count": 214,
      "outputs": [
        {
          "output_type": "stream",
          "name": "stdout",
          "text": [
            "              precision    recall  f1-score   support\n",
            "\n",
            "       False       0.99      0.98      0.98      2145\n",
            "        True       0.49      0.67      0.57        64\n",
            "\n",
            "    accuracy                           0.97      2209\n",
            "   macro avg       0.74      0.83      0.78      2209\n",
            "weighted avg       0.98      0.97      0.97      2209\n",
            "\n"
          ]
        }
      ]
    },
    {
      "cell_type": "code",
      "source": [
        "from sklearn.metrics import precision_recall_curve\n",
        "import matplotlib.pyplot as plt\n",
        "\n",
        "y_scores = rf.predict_proba(X_test_scaled)[:, 1]\n",
        "\n",
        "precision, recall, thresholds = precision_recall_curve(y_test, y_scores)\n",
        "\n",
        "plt.plot(recall, precision, label=\"Random Forest\")\n",
        "plt.xlabel(\"Recall\")\n",
        "plt.ylabel(\"Precision\")\n",
        "plt.title(\"PR Curve, Testset, House or Cooking Fires, PA, 2014-2019\")\n",
        "plt.axhline(df.all_fires.sum() / len(df), color='r', linestyle='--')\n",
        "plt.legend()\n",
        "plt.show()\n"
      ],
      "metadata": {
        "colab": {
          "base_uri": "https://localhost:8080/",
          "height": 472
        },
        "id": "kQmxKO9YW-NU",
        "outputId": "0e96e296-827b-4a39-9aad-2bdfe274b443"
      },
      "execution_count": 215,
      "outputs": [
        {
          "output_type": "display_data",
          "data": {
            "text/plain": [
              "<Figure size 640x480 with 1 Axes>"
            ],
            "image/png": "[encoded data removed]"
          },
          "metadata": {}
        }
      ]
    },
    {
      "cell_type": "code",
      "source": [
        "probabilities = rf.predict_proba(X_test_scaled)[:,1]\n",
        "pd.DataFrame(probabilities).hist(bins=40)\n"
      ],
      "metadata": {
        "colab": {
          "base_uri": "https://localhost:8080/",
          "height": 469
        },
        "id": "EgdyZY8aYYtG",
        "outputId": "eed67750-31c1-4873-e94f-b76dad87f5f4"
      },
      "execution_count": 216,
      "outputs": [
        {
          "output_type": "execute_result",
          "data": {
            "text/plain": [
              "array([[<Axes: title={'center': '0'}>]], dtype=object)"
            ]
          },
          "metadata": {},
          "execution_count": 216
        },
        {
          "output_type": "display_data",
          "data": {
            "text/plain": [
              "<Figure size 640x480 with 1 Axes>"
            ],
            "image/png": "[encoded data removed]"
          },
          "metadata": {}
        }
      ]
    },
    {
      "cell_type": "code",
      "source": [
        "feature_names = X_scaled_df.columns\n",
        "\n",
        "importances = rf.feature_importances_\n",
        "\n",
        "sorted_indices = np.argsort(importances)[::-1]\n",
        "for i in sorted_indices:\n",
        "    print(f\"{feature_names[i]}: {importances[i]}\")\n"
      ],
      "metadata": {
        "colab": {
          "base_uri": "https://localhost:8080/"
        },
        "id": "Sy8oKbKAcydz",
        "outputId": "8d883a1f-ca58-45f9-d26a-d5e847fb9cda"
      },
      "execution_count": 217,
      "outputs": [
        {
          "output_type": "stream",
          "name": "stdout",
          "text": [
            "addr_type_H: 0.07969803973418553\n",
            "addr_type_S: 0.05276432509986618\n",
            "std_zip5: 0.048096050964139395\n",
            "total_dwelling_units: 0.04255439056728403\n",
            "formal_participant_name_Philadelphia Housing Authority: 0.04244672103741437\n",
            "pha_total_units: 0.04092654498979409\n",
            "acc_units: 0.03979160174992127\n",
            "total_units: 0.03856401807558943\n",
            "std_zip9: 0.037688297941625294\n",
            "number_reported: 0.03721338677986314\n",
            "msa_nm_Philadelphia, PA-NJ PMSA: 0.035781117334830234\n",
            "total_occupied: 0.03262178842670683\n",
            "construction_year: 0.032111945534372355\n",
            "dofa_actual_year: 0.031237403292257812\n",
            "building_type_code_WU: 0.026759556434808252\n",
            "building_type_code_RW: 0.02133972021427053\n",
            "msgusps: 0.01642922762653219\n",
            "regular_vacant: 0.015642039041421602\n",
            "pct_occupied: 0.014918539305720265\n",
            "tminority: 0.013982211168432268\n",
            "pct_wage_major: 0.01329955535214074\n",
            "spending_per_month: 0.011447218773719856\n",
            "pct_hispanic: 0.011213778623786076\n",
            "spending_per_month_prev_yr: 0.009884387724175889\n",
            "months_from_movein: 0.009250251750803531\n",
            "building_type_code_ES: 0.008834313114008644\n",
            "msa_nm_MISSING_VALUE: 0.00781651573051142\n",
            "formal_participant_name_Housing Authority of the County of Luzerne: 0.007287737535214865\n",
            "pct_bed3: 0.007040468007744139\n",
            "pct_2adults: 0.0069229804263847535\n",
            "msa_nm_Scranton--Wilkes-Barre--Hazleton, PA MSA: 0.006648542197641684\n",
            "msa_nm_Pittsburgh, PA MSA: 0.0065395244771626615\n",
            "pct_female_head_child: 0.00634888317913661\n",
            "formal_participant_name_HOUSING AUTHORITY OF THE COUNTY OF JEFFERSON: 0.006182544332040229\n",
            "person_income: 0.005943674527583428\n",
            "pct_other_major: 0.005942684352976005\n",
            "chldrn_mbr_cnt: 0.005751793509195012\n",
            "apt_type_MISSING_VALUE: 0.0054793360831853774\n",
            "pct_bed1: 0.005174825042133284\n",
            "pct_1adult: 0.004989512352714925\n",
            "lvl2kx_R: 0.0049690042140295675\n",
            "pct_overhoused: 0.004962900252037594\n",
            "msg2kx_**  Centroid Lat/Long   **: 0.004819641699657382\n",
            "msg2kx_** Street-Level Rooftop **: 0.004699715929669985\n",
            "people_per_unit: 0.004641367466506902\n",
            "micro: 0.00456214354421875\n",
            "apt_type_Apt: 0.004437145405644592\n",
            "pct_ge20k: 0.004192825190197216\n",
            "building_type_code_SF: 0.003713463422350669\n",
            "building_type_code_SD: 0.0036006746574121207\n",
            "tpct_ownsfd: 0.0035504670878014678\n",
            "pct_bed2: 0.0034335505398447315\n",
            "eldly_prcnt: 0.0033657346313303855\n",
            "pct_female_head: 0.0031693908970624025\n",
            "people_total: 0.002747379458684089\n",
            "rent_per_month: 0.0027220375258807526\n",
            "pct_age25_50: 0.0027044021448848154\n",
            "metro: 0.002440510722597363\n",
            "ave_util_allow: 0.0024133539585864698\n",
            "pct_lt80_median: 0.0023862545515668738\n",
            "pct_welfare_major: 0.0023769300311207637\n",
            "formal_participant_name_Housing Authority of the City of Pittsburgh: 0.0023590289679094813\n",
            "addr_type_MISSING_VALUE: 0.0023215731047551945\n",
            "lvl2kx_T: 0.0023199741262344437\n",
            "pct_movein: 0.0022433946695032\n",
            "pct_lt5k: 0.0021669445079335217\n",
            "formal_participant_name_Housing Authority County of Delaware: 0.0021042189985691507\n",
            "ur_R: 0.0020666933488948593\n",
            "building_status_type_code_INAPCP: 0.0020501402688488544\n",
            "hh_income: 0.0019160326598581438\n",
            "pct_utility_allow: 0.0018448821621743843\n",
            "pct_5k_lt10k: 0.001795217724061561\n",
            "annl_expns_amnt_prev_yr: 0.0017312646652790256\n",
            "formal_participant_name_Lackawanna County Housing Authority: 0.0017204105160382684\n",
            "ur_U: 0.0016974201995128232\n",
            "annl_expns_amnt: 0.0016251317964264358\n",
            "formal_participant_name_HOUSING AUTHORITY OF THE CITY OF ERIE: 0.0015507598500251996\n",
            "pct_disabled_all: 0.0014875285383568195\n",
            "pct_minority: 0.0014403779471255827\n",
            "pct_disabled_lt62: 0.0013864637372488994\n",
            "pct_age85plus: 0.0013743930032879205\n",
            "pct_black: 0.0013571841477611206\n",
            "pct_10k_lt15k: 0.0012517357850091273\n",
            "pct_lt24_head: 0.001214590965753701\n",
            "lvl2kx_4: 0.0011934650628069204\n",
            "lvl2kx_B: 0.0011324453335302426\n",
            "msa_nm_Allentown-Bethlehem-Easton, PA MSA: 0.0011005174328081856\n",
            "pct_lt50_median: 0.0010721222180585287\n",
            "formal_participant_name_The Housing Auth of the City of Nanticoke: 0.0010592437683445781\n",
            "tpoverty: 0.000976764683184428\n",
            "formal_participant_name_ALLEGHENY COUNTY HOUSING AUTHORITY: 0.0009737652869834117\n",
            "months_since_report: 0.0009689677773482587\n",
            "pct_age62plus: 0.0009541614339437261\n",
            "months_waiting: 0.0008984665798876103\n",
            "msa_nm_Erie, PA MSA: 0.0008902226253344845\n",
            "median_inc_amnt: 0.0008514242307724476\n",
            "pct_15k_lt20k: 0.0007670458568845254\n",
            "msa_nm_Reading, PA MSA: 0.0007627803749266948\n",
            "building_status_type_code_DDAPRD: 0.0007205131350949699\n",
            "pct_median: 0.0006950182514706754\n",
            "formal_participant_name_Bethlehem Housing Authority: 0.0006611585068652607\n",
            "pct_lt30_median: 0.0006176735959190277\n",
            "formal_participant_name_Lehigh County Housing Authority: 0.0005945367890202769\n",
            "formal_participant_name_Housing Authority of the City of York: 0.0005381102152130308\n",
            "pct_age51_61: 0.0005340316481085424\n",
            "pct_native_american: 0.0005227076282045083\n",
            "pct_reported: 0.0005141632300062766\n",
            "formal_participant_name_Chester Housing Authority: 0.0005050298015480568\n",
            "formal_participant_name_Housing Authority of the County of Armstrong: 0.0005048154656321\n",
            "pct_disabled_lt62_all: 0.0004980911179910532\n",
            "formal_participant_name_HOUSING AUTHORITY OF THE COUNTY OF BEAVER: 0.000494082138660935\n",
            "msa_nm_York, PA MSA: 0.0004756442501994918\n",
            "formal_participant_name_HOUSING AUTH CO OF LAWRENCE: 0.00047192935488928907\n",
            "pct_asian: 0.00046218196556671706\n",
            "formal_participant_name_WESTMORELAND COUNTY HSG AUTHORITY: 0.0004105748139100202\n",
            "building_status_type_code_DDPROP: 0.0003787657410918753\n",
            "formal_participant_name_Allentown Housing Authority: 0.0003773133710871619\n",
            "formal_participant_name_Housing Authority of the County of Dauphin: 0.00037617413239387083\n",
            "rad_chap_indr_Y: 0.0003694118202325845\n",
            "rad_type_ : 0.00035750648540361764\n",
            "pct_disabled_ge62: 0.00030535484222189843\n",
            "msa_nm_Harrisburg-Lebanon-Carlisle, PA MSA: 0.00030441943230803063\n",
            "formal_participant_name_Housing Authority of the City of Pottsville: 0.00029716531995386706\n",
            "rad_chap_indr_N: 0.00029177270410131624\n",
            "formal_participant_name_FAYETTE COUNTY HOUSING AUTHORITY: 0.0002899913057230925\n",
            "formal_participant_name_Reading Housing Authority: 0.000289777265610987\n",
            "formal_participant_name_Housing Authority of the County of Berks: 0.00028513721945504645\n",
            "rad_type_PBV: 0.0002784195494105843\n",
            "formal_participant_name_The Housing Auth of the County of Mifflin: 0.00025014372339945365\n",
            "formal_participant_name_JOHNSTOWN HOUSING AUTHORITY: 0.00019677689221941986\n",
            "formal_participant_name_Scranton Housing Authority: 0.00018084570568610616\n",
            "formal_participant_name_Housing Authority of the County of Lycoming: 0.0001725465731292302\n",
            "msa_nm_Johnstown, PA MSA: 0.00017128367058414533\n",
            "formal_participant_name_The Housing Authority of Monroe County: 0.0001682737044624958\n",
            "formal_participant_name_Easton Housing Authority: 0.00016255774081747255\n",
            "formal_participant_name_Wilkes Barre Housing Authority: 0.00016125425530571624\n",
            "msa_nm_Williamsport, PA MSA: 0.00014480360231558916\n",
            "building_status_type_code_DDDRFT: 0.00012577323739632954\n",
            "formal_participant_name_HOUSING AUTHORITY OF INDIANA COUNTY: 0.0001241704972647538\n",
            "formal_participant_name_HOUSING AUTHORITY OF THE COUNTY OF HUNTINGDON: 0.0001229745238205601\n",
            "formal_participant_name_HOUSING AUTHORITY OF THE COUNTY OF GREENE: 0.00010191472787264104\n",
            "formal_participant_name_Montgomery County Housing Authority: 0.00010163363971962868\n",
            "formal_participant_name_Bucks County Housing Authority: 8.71104605681733e-05\n",
            "formal_participant_name_The Housing Authority of Clinton County: 8.05520173835455e-05\n",
            "formal_participant_name_HOUSING AUTHORITY OF THE CITY OF OIL CITY: 7.788458759519342e-05\n",
            "formal_participant_name_Harrisburg Housing Authority: 7.112896508844003e-05\n",
            "formal_participant_name_Schuylkill County Housing Authority: 7.027178101916902e-05\n",
            "apt_type_Unit: 6.698685281092882e-05\n",
            "formal_participant_name_Tioga County Housing Authority: 5.7914822519509745e-05\n",
            "formal_participant_name_The Wyoming Co Housing & Redevelopment Auth: 5.680178781504732e-05\n",
            "formal_participant_name_The Housing Auth of the City of Carbondale: 5.542471677552767e-05\n",
            "formal_participant_name_HOUSING AUTHORITY OF THE CITY OF DUBOIS: 5.387211509970769e-05\n",
            "formal_participant_name_WASHINGTON COUNTY HOUSING AUTHORITY: 5.3083158873743717e-05\n",
            "formal_participant_name_CLEARFIELD COUNTY HOUSING AUTHORITY: 5.100410848602617e-05\n",
            "formal_participant_name_HOUSING AUTHORITY OF THE COUNTY OF MCKEAN: 4.4798808616189544e-05\n",
            "formal_participant_name_HOUSING AUTHORITY OF THE COUNTY OF ELK: 3.7050623690767874e-05\n",
            "msa_nm_Lancaster, PA MSA: 3.580010602419336e-05\n",
            "formal_participant_name_Housing Authority of the City of Pittston: 3.5393056363507535e-05\n",
            "formal_participant_name_The Housing Auth of the City of Lancaster: 3.2862200631817825e-05\n",
            "formal_participant_name_Housing Authority of the County of Chester: 3.074970455833799e-05\n",
            "formal_participant_name_HOUSING AUTHORITY OF THE CITY OF MCKEESPORT: 2.6043829617048827e-05\n",
            "formal_participant_name_Shamokin Housing Authority: 2.2007595430805147e-05\n",
            "msa_nm_Altoona, PA MSA: 2.1744928983174743e-05\n",
            "formal_participant_name_Carbon County Housing Authority: 2.1576607032972606e-05\n",
            "formal_participant_name_TITUSVILLE HOUSING AUTHORITY: 2.0687166435085864e-05\n",
            "formal_participant_name_Housing Authority of the County of Franklin: 1.9695048167878347e-05\n",
            "formal_participant_name_HOUSING AUTHORITY OF THE COUNTY OF ERIE: 1.7427637758757576e-05\n",
            "formal_participant_name_The Housing Authority of Montour County: 1.6742357522294542e-05\n",
            "formal_participant_name_Housing Authority of the County of Cumberland: 1.5752337767137818e-05\n",
            "formal_participant_name_HOUSING AUTHORITY OF THE CITY OF MEADVILLE: 1.551646514552732e-05\n",
            "formal_participant_name_Housing Authority of the County of Lebanon: 1.4793479504468552e-05\n",
            "formal_participant_name_HOUSING AUTHORITY OF THE COUNTY OF BLAIR: 1.2423416601050235e-05\n",
            "formal_participant_name_Snyder County Housing Authority: 7.901469045332659e-06\n",
            "rad_type_PBRA: 6.774321126111734e-06\n",
            "formal_participant_name_Bradford County Housing Authority: 6.135806395977864e-06\n",
            "formal_participant_name_HOUSING AUTHORITY OF THE COUNTY OF BEDFORD: 5.935740740231224e-06\n",
            "formal_participant_name_Housing Auth of the County of Northumberland: 5.7662796682831035e-06\n",
            "formal_participant_name_HOUSING AUTHORITY OF THE CITY OF FRANKLIN: 5.311232776057331e-06\n",
            "building_status_type_code_RMIPRP: 5.144356403093322e-06\n",
            "formal_participant_name_HOUSING AUTHORITY OF THE COUNTY OF WARREN: 4.751552067311552e-06\n",
            "formal_participant_name_Northampton County Housing Authority: 4.238515945653747e-06\n",
            "zip_class_MISSING_VALUE: 3.3583595284171837e-06\n",
            "formal_participant_name_MERCER COUNTY HOUSING AUTHORITY: 3.280425143926239e-06\n",
            "formal_participant_name_The Housing Authority of the City of Hazleton: 2.1972530712707653e-06\n",
            "formal_participant_name_SOMERSET COUNTY HOUSING AUTHORITY: 1.992498365294517e-06\n",
            "formal_participant_name_ALTOONA HOUSING AUTHORITY: 1.9303047845754606e-06\n",
            "zip_class_P: 1.5786636665842356e-06\n",
            "formal_participant_name_Sunbury Housing Authority: 1.3903224834418575e-06\n",
            "msa_nm_Sharon, PA MSA: 6.410862484986862e-07\n",
            "formal_participant_name_CONNELLSVILLE HOUSING AUTHORITY: 5.261267985374787e-07\n",
            "apt_type_Ste: 5.19963419598908e-07\n",
            "ur_MISSING_VALUE: 1.2893872353894598e-09\n",
            "formal_participant_name_Columbia County Housing Authority: 0.0\n"
          ]
        }
      ]
    },
    {
      "cell_type": "code",
      "source": [
        "X_val = df.drop(columns=target_cols, axis=1)\n",
        "y_val = df['house+cooking_20-21']\n",
        "\n",
        "scaler = StandardScaler()\n",
        "\n",
        "X_val_scaled = scaler.fit_transform(X_val)\n",
        "\n",
        "y_pred_val = rf.predict(X_val_scaled)\n"
      ],
      "metadata": {
        "id": "A_1Z2c5_Vagj"
      },
      "execution_count": 222,
      "outputs": []
    },
    {
      "cell_type": "code",
      "source": [
        "report = classification_report(y_val, y_pred_val)\n",
        "print(report)\n",
        "\n",
        "y_scores = rf.predict_proba(X_val_scaled)[:, 1]\n",
        "\n",
        "precision, recall, thresholds = precision_recall_curve(y_val, y_scores)\n",
        "\n",
        "plt.plot(recall, precision, label=\"Random Forest\")\n",
        "plt.xlabel(\"Recall\")\n",
        "plt.ylabel(\"Precision\")\n",
        "plt.title(\"PR Curve, Validation Set, House or Cooking Fires, PA, 2020-2021\")\n",
        "plt.axhline(df['house+cooking'].sum() / len(df), color='r', linestyle='--')\n",
        "plt.legend()\n",
        "plt.show()"
      ],
      "metadata": {
        "colab": {
          "base_uri": "https://localhost:8080/",
          "height": 628
        },
        "id": "aW46wqZ5Wiuk",
        "outputId": "bc5d7661-1da7-4a81-b4a8-082fde0fbf77"
      },
      "execution_count": 223,
      "outputs": [
        {
          "output_type": "stream",
          "name": "stdout",
          "text": [
            "              precision    recall  f1-score   support\n",
            "\n",
            "       False       0.99      0.70      0.82     10795\n",
            "        True       0.05      0.76      0.10       247\n",
            "\n",
            "    accuracy                           0.70     11042\n",
            "   macro avg       0.52      0.73      0.46     11042\n",
            "weighted avg       0.97      0.70      0.81     11042\n",
            "\n"
          ]
        },
        {
          "output_type": "display_data",
          "data": {
            "text/plain": [
              "<Figure size 640x480 with 1 Axes>"
            ],
            "image/png": "[encoded data removed]"
          },
          "metadata": {}
        }
      ]
    },
    {
      "cell_type": "code",
      "source": [
        "probabilities = rf.predict_proba(X_val_scaled)[:,1]\n",
        "pd.DataFrame(probabilities).hist(bins=40)\n"
      ],
      "metadata": {
        "colab": {
          "base_uri": "https://localhost:8080/",
          "height": 469
        },
        "id": "X9f11tWCbpZ7",
        "outputId": "e47794e6-9dca-44f9-81b3-2b14722c41c2"
      },
      "execution_count": 220,
      "outputs": [
        {
          "output_type": "execute_result",
          "data": {
            "text/plain": [
              "array([[<Axes: title={'center': '0'}>]], dtype=object)"
            ]
          },
          "metadata": {},
          "execution_count": 220
        },
        {
          "output_type": "display_data",
          "data": {
            "text/plain": [
              "<Figure size 640x480 with 1 Axes>"
            ],
            "image/png": "[encoded data removed]"
          },
          "metadata": {}
        }
      ]
    }
  ],
  "metadata": {
    "kernelspec": {
      "display_name": "base",
      "language": "python",
      "name": "python3"
    },
    "language_info": {
      "codemirror_mode": {
        "name": "ipython",
        "version": 3
      },
      "file_extension": ".py",
      "mimetype": "text/x-python",
      "name": "python",
      "nbconvert_exporter": "python",
      "pygments_lexer": "ipython3",
      "version": "3.10.9"
    },
    "orig_nbformat": 4,
    "colab": {
      "provenance": []
    }
  },
  "nbformat": 4,
  "nbformat_minor": 0
}