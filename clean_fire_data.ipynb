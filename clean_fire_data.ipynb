{
 "cells": [
  {
   "cell_type": "code",
   "execution_count": 1,
   "metadata": {},
   "outputs": [],
   "source": [
    "import pandas as pd\n",
    "import sqlite3\n",
    "import numpy as np\n",
    "\n",
    "pd.set_option('display.max_columns', None)"
   ]
  },
  {
   "cell_type": "code",
   "execution_count": 2,
   "metadata": {},
   "outputs": [],
   "source": [
    "public = pd.read_csv('./buildings_dev_pha_clean_1.0.csv')"
   ]
  },
  {
   "cell_type": "code",
   "execution_count": 3,
   "metadata": {},
   "outputs": [],
   "source": [
    "cols_to_front = ['corrected_address', 'corrected_unit', 'std_city', 'std_st', 'std_zip5']\n",
    "remaining_cols = [col for col in public.columns if col not in cols_to_front]\n",
    "public = public[cols_to_front + remaining_cols]"
   ]
  },
  {
   "cell_type": "code",
   "execution_count": 4,
   "metadata": {},
   "outputs": [],
   "source": [
    "public = public[public.corrected_address.notna()]"
   ]
  },
  {
   "cell_type": "code",
   "execution_count": 5,
   "metadata": {},
   "outputs": [],
   "source": [
    "public.std_zip5 = public.std_zip5.astype(str)\n",
    "public.std_zip5 = public.std_zip5.replace('nan', '')\n",
    "public.std_zip5 = public.std_zip5.apply(lambda x: x.split('.')[0])\n",
    "public.std_zip5 = public.std_zip5.apply(lambda x: '00' + x if len(x) == 3 else x)\n",
    "public.std_zip5 = public.std_zip5.apply(lambda x: '0' + x if len(x) == 4 else x)"
   ]
  },
  {
   "cell_type": "code",
   "execution_count": 6,
   "metadata": {},
   "outputs": [
    {
     "name": "stderr",
     "output_type": "stream",
     "text": [
      "C:\\Users\\jackv\\AppData\\Local\\Temp\\ipykernel_12628\\3736073915.py:2: FutureWarning: The default value of regex will change from True to False in a future version.\n",
      "  public['corrected_address'] = public['corrected_address'].str.replace(r'\\s+', ' ').str.strip()\n"
     ]
    }
   ],
   "source": [
    "public['corrected_address'] = public.corrected_address.fillna('')\n",
    "public['corrected_address'] = public['corrected_address'].str.replace(r'\\s+', ' ').str.strip()\n",
    "\n",
    "public['corrected_unit'] = public.corrected_unit.fillna('')\n",
    "public['corrected_unit'] = public.corrected_unit.str.strip()\n",
    "\n",
    "public['std_city'] = public.std_city.fillna('')\n",
    "public['std_city'] = public.std_city.str.strip()\n",
    "\n",
    "public['std_st'] = public.std_st.fillna('')\n",
    "public['std_st'] = public.std_st.str.strip()"
   ]
  },
  {
   "cell_type": "code",
   "execution_count": 7,
   "metadata": {},
   "outputs": [],
   "source": [
    "full_fema_matches = pd.DataFrame()"
   ]
  },
  {
   "cell_type": "code",
   "execution_count": 8,
   "metadata": {},
   "outputs": [
    {
     "name": "stderr",
     "output_type": "stream",
     "text": [
      "C:\\Users\\jackv\\AppData\\Local\\Temp\\ipykernel_12628\\2905111608.py:38: FutureWarning: The default value of regex will change from True to False in a future version.\n",
      "  df['address'] = df['address'].str.replace(r'\\s+', ' ').str.strip()\n",
      "C:\\Users\\jackv\\AppData\\Local\\Temp\\ipykernel_12628\\2905111608.py:38: FutureWarning: The default value of regex will change from True to False in a future version.\n",
      "  df['address'] = df['address'].str.replace(r'\\s+', ' ').str.strip()\n",
      "C:\\Users\\jackv\\AppData\\Local\\Temp\\ipykernel_12628\\2905111608.py:38: FutureWarning: The default value of regex will change from True to False in a future version.\n",
      "  df['address'] = df['address'].str.replace(r'\\s+', ' ').str.strip()\n",
      "C:\\Users\\jackv\\AppData\\Local\\Temp\\ipykernel_12628\\2905111608.py:38: FutureWarning: The default value of regex will change from True to False in a future version.\n",
      "  df['address'] = df['address'].str.replace(r'\\s+', ' ').str.strip()\n",
      "C:\\Users\\jackv\\AppData\\Local\\Temp\\ipykernel_12628\\2905111608.py:38: FutureWarning: The default value of regex will change from True to False in a future version.\n",
      "  df['address'] = df['address'].str.replace(r'\\s+', ' ').str.strip()\n",
      "C:\\Users\\jackv\\AppData\\Local\\Temp\\ipykernel_12628\\2905111608.py:38: FutureWarning: The default value of regex will change from True to False in a future version.\n",
      "  df['address'] = df['address'].str.replace(r'\\s+', ' ').str.strip()\n",
      "C:\\Users\\jackv\\AppData\\Local\\Temp\\ipykernel_12628\\2905111608.py:38: FutureWarning: The default value of regex will change from True to False in a future version.\n",
      "  df['address'] = df['address'].str.replace(r'\\s+', ' ').str.strip()\n",
      "C:\\Users\\jackv\\AppData\\Local\\Temp\\ipykernel_12628\\2905111608.py:38: FutureWarning: The default value of regex will change from True to False in a future version.\n",
      "  df['address'] = df['address'].str.replace(r'\\s+', ' ').str.strip()\n",
      "C:\\Users\\jackv\\AppData\\Local\\Temp\\ipykernel_12628\\2905111608.py:38: FutureWarning: The default value of regex will change from True to False in a future version.\n",
      "  df['address'] = df['address'].str.replace(r'\\s+', ' ').str.strip()\n",
      "C:\\Users\\jackv\\AppData\\Local\\Temp\\ipykernel_12628\\2905111608.py:38: FutureWarning: The default value of regex will change from True to False in a future version.\n",
      "  df['address'] = df['address'].str.replace(r'\\s+', ' ').str.strip()\n"
     ]
    }
   ],
   "source": [
    "for year in range(2012, 2022):\n",
    "    conn = sqlite3.Connection('./data/nfirs/fire_data.db')\n",
    "    df = pd.read_sql(\"\"\"\n",
    "        select \n",
    "            INCIDENT_KEY,\n",
    "            address,\n",
    "            APT_NO,\n",
    "            CITY,\n",
    "            STATE,\n",
    "            ZIP5,\n",
    "            PROP_LOSS,\n",
    "            CONT_LOSS,\n",
    "            OTH_DEATH,\n",
    "            OTH_INJ,\n",
    "            INC_TYPE,\n",
    "            HUM_FAC_1,\n",
    "            HUM_FAC_2,\n",
    "            HUM_FAC_3,\n",
    "            HUM_FAC_4,\n",
    "            HUM_FAC_5,\n",
    "            HUM_FAC_6,\n",
    "            HUM_FAC_7,\n",
    "            BLDG_INVOL,\n",
    "            DET_ALERT,\n",
    "            FLAME_SPRD,\n",
    "            AES_PRES,\n",
    "            ST_DAM_HVY,\n",
    "            ST_DAM_SIG,\n",
    "            ST_DAM_XTR,\n",
    "            ST_DAM_MIN \n",
    "        from buildings_fires_all \n",
    "        where INC_YEAR\n",
    "        \"\"\" + f\" = {year};\", conn)\n",
    "\n",
    "    df['EXP_NO'] = df.INCIDENT_KEY.apply(lambda x: x.split('_')[-1]).astype(int)\n",
    "\n",
    "    df['address'] = df.address.fillna('')\n",
    "    df['address'] = df['address'].str.replace(r'\\s+', ' ').str.strip()\n",
    "\n",
    "    df['APT_NO'] = df.APT_NO.fillna('')\n",
    "    df['APT_NO'] = df.APT_NO.str.strip()\n",
    "\n",
    "    df['CITY'] = df.CITY.fillna('')\n",
    "    df['CITY'] = df.CITY.str.strip()\n",
    "\n",
    "    df['STATE'] = df.STATE.fillna('')\n",
    "    df['STATE'] = df.STATE.str.strip()\n",
    "\n",
    "    df.ZIP5 = df.ZIP5.astype(str)\n",
    "    df.ZIP5 = df.ZIP5.replace('nan', '')\n",
    "    df.ZIP5 = df.ZIP5.apply(lambda x: x.split('.')[0])\n",
    "    df.ZIP5 = df.ZIP5.apply(lambda x: '00' + x if len(x) == 3 else x)\n",
    "    df.ZIP5 = df.ZIP5.apply(lambda x: '0' + x if len(x) == 4 else x)\n",
    "\n",
    "    df['HUM_FAC_1'] = df.HUM_FAC_1.apply(lambda x: 1 if x == '1' else 0)\n",
    "    df['HUM_FAC_2'] = df.HUM_FAC_2.apply(lambda x: 1 if pd.notna(x) else 0)\n",
    "    df['HUM_FAC_3'] = df.HUM_FAC_3.apply(lambda x: 1 if pd.notna(x) else 0)\n",
    "    df['HUM_FAC_4'] = df.HUM_FAC_4.apply(lambda x: 1 if pd.notna(x) else 0)\n",
    "    df['HUM_FAC_5'] = df.HUM_FAC_5.apply(lambda x: 1 if pd.notna(x) else 0)\n",
    "    df['HUM_FAC_6'] = df.HUM_FAC_6.apply(lambda x: 1 if pd.notna(x) else 0)\n",
    "    df['HUM_FAC_7'] = df.HUM_FAC_7.apply(lambda x: 1 if pd.notna(x) else 0)\n",
    "    df['BLDG_INVOL'] = df.BLDG_INVOL.apply(lambda x: np.nan if pd.isna(x) or float(x) < 0 else x)\n",
    "    df['BLDG_INVOL'] = df.BLDG_INVOL.astype(float)\n",
    "    df['DET_ALERT'] = df.DET_ALERT.replace('U', np.nan)\n",
    "    df['DET_ALERT'] = df.DET_ALERT.apply(lambda x: 1 if x == '1' else 0)\n",
    "    df['FLAME_SPRD'] = df.FLAME_SPRD.apply(lambda x: 1 if x == 'Y' else 0)\n",
    "    df['AES_PRES'] = df.AES_PRES.replace('U', np.nan)\n",
    "    df['AES_PRES'] = df.AES_PRES.replace('N', 0)\n",
    "    df['AES_PRES'] = df.AES_PRES.apply(lambda x: 1 if x == '1' else .5)\n",
    "    df['ST_DAM_MIN'] = df.ST_DAM_MIN.apply(lambda x: np.nan if pd.isna(x) or float(x) < 0 else x)\n",
    "    df['ST_DAM_XTR'] = df.ST_DAM_XTR.apply(lambda x: np.nan if pd.isna(x) or float(x) < 0 else x)\n",
    "    df['ST_DAM_HVY'] = df.ST_DAM_HVY.apply(lambda x: np.nan if pd.isna(x) or float(x) < 0 else x)\n",
    "    df['ST_DAM_SIG'] = df.ST_DAM_SIG.apply(lambda x: np.nan if pd.isna(x) or float(x) < 0 else x)\n",
    "\n",
    "    col = 'INC_TYPE'\n",
    "    dummies = pd.get_dummies(df[col], prefix=col)\n",
    "    df = pd.concat([df.drop(col, axis=1), dummies], axis=1)\n",
    "\n",
    "    inc_type_cols = [x for x in df.columns if 'INC_TYPE_' in x]\n",
    "    df['building_fires'] = df[inc_type_cols].sum(axis=1)\n",
    "\n",
    "    df = df.drop(['INC_TYPE_114', 'INC_TYPE_115', 'INC_TYPE_116'], axis=1)\n",
    "\n",
    "    full_fema_matches = pd.concat([full_fema_matches, public.merge(df, how='inner', \n",
    "        left_on=['corrected_address', 'corrected_unit', 'std_city', 'std_st', 'std_zip5'],\n",
    "        right_on=['address', 'APT_NO', 'CITY', 'STATE', 'ZIP5']\n",
    "    )], axis=0)\n",
    "\n",
    "    # Max for indicator variable columns\n",
    "    aggregated = df \\\n",
    "        .drop(['INCIDENT_KEY'], axis=1) \\\n",
    "        .groupby(['address', 'APT_NO', 'CITY', 'STATE', 'ZIP5']).agg({\n",
    "            'PROP_LOSS': 'sum',\n",
    "            'CONT_LOSS': 'sum',\n",
    "            'OTH_DEATH': 'sum',\n",
    "            'OTH_INJ': 'sum',\n",
    "            'HUM_FAC_1': 'max',\n",
    "            'HUM_FAC_2': 'max',\n",
    "            'HUM_FAC_3': 'max',\n",
    "            'HUM_FAC_4': 'max',\n",
    "            'HUM_FAC_5': 'max',\n",
    "            'HUM_FAC_6': 'max',\n",
    "            'HUM_FAC_7': 'max',\n",
    "            'BLDG_INVOL': 'sum',\n",
    "            'DET_ALERT': 'max',\n",
    "            'FLAME_SPRD': 'max',\n",
    "            'AES_PRES': 'max',\n",
    "            'ST_DAM_HVY': 'sum',\n",
    "            'ST_DAM_SIG': 'sum',\n",
    "            'ST_DAM_XTR': 'sum',\n",
    "            'ST_DAM_MIN': 'sum',\n",
    "            'EXP_NO': 'max',\n",
    "            'INC_TYPE_111': 'sum',\n",
    "            'INC_TYPE_113': 'sum',\n",
    "            'INC_TYPE_118': 'sum',\n",
    "            'building_fires': 'sum'\n",
    "    }).reset_index()\n",
    "\n",
    "    new_cols = aggregated.columns\n",
    "\n",
    "    df = df.sample(frac=1).reset_index(drop=True)\n",
    "\n",
    "    public = public.merge(aggregated, how='left', \n",
    "        left_on=['corrected_address', 'corrected_unit', 'std_city', 'std_st', 'std_zip5'],\n",
    "        right_on=['address', 'APT_NO', 'CITY', 'STATE', 'ZIP5']\n",
    "    )\n",
    "\n",
    "    duplicate_indices_to_zero_out = public[\n",
    "        (public.duplicated(subset=['corrected_address', 'corrected_unit', 'std_city', 'std_st', 'std_zip5'], keep='first')) &\n",
    "        (public.building_fires > 0)\n",
    "    ].index\n",
    "\n",
    "    public.iloc[duplicate_indices_to_zero_out] = 0\n",
    "\n",
    "    public = public.drop(['address', 'APT_NO', 'CITY', 'STATE', 'ZIP5'], axis=1)\n",
    "    fill_nas = [\n",
    "        'PROP_LOSS', 'CONT_LOSS', 'OTH_DEATH', 'OTH_INJ', 'HUM_FAC_1', 'HUM_FAC_2',\n",
    "        'HUM_FAC_3', 'HUM_FAC_4', 'HUM_FAC_5', 'HUM_FAC_6', 'HUM_FAC_7', 'BLDG_INVOL',\n",
    "        'DET_ALERT', 'FLAME_SPRD', 'AES_PRES', 'ST_DAM_HVY', 'ST_DAM_SIG', 'ST_DAM_XTR',\n",
    "        'ST_DAM_MIN', 'EXP_NO', 'INC_TYPE_111', 'INC_TYPE_113', 'INC_TYPE_118', 'building_fires'\n",
    "    ]\n",
    "    public[fill_nas] = public[fill_nas].fillna(0)\n",
    "    public.columns = [x + f'_{year}' if x in new_cols else x for x in public.columns]\n"
   ]
  },
  {
   "cell_type": "code",
   "execution_count": 9,
   "metadata": {},
   "outputs": [],
   "source": [
    "public.columns = [x.lower() for x in public.columns]"
   ]
  },
  {
   "cell_type": "code",
   "execution_count": 10,
   "metadata": {},
   "outputs": [],
   "source": [
    "full_fema_matches \\\n",
    "    .loc[:, ['corrected_address', 'corrected_unit', 'std_city', 'std_st', 'std_zip5', 'INCIDENT_KEY']] \\\n",
    "    .to_csv('full_fema_matches.csv', index=False)"
   ]
  },
  {
   "cell_type": "code",
   "execution_count": 11,
   "metadata": {},
   "outputs": [],
   "source": [
    "public.to_csv('ph_fires_matched_1.1.csv', index=False)"
   ]
  }
 ],
 "metadata": {
  "kernelspec": {
   "display_name": "base",
   "language": "python",
   "name": "python3"
  },
  "language_info": {
   "codemirror_mode": {
    "name": "ipython",
    "version": 3
   },
   "file_extension": ".py",
   "mimetype": "text/x-python",
   "name": "python",
   "nbconvert_exporter": "python",
   "pygments_lexer": "ipython3",
   "version": "3.10.9"
  },
  "orig_nbformat": 4
 },
 "nbformat": 4,
 "nbformat_minor": 2
}
