{
 "cells": [
  {
   "cell_type": "code",
   "execution_count": 1,
   "metadata": {},
   "outputs": [],
   "source": [
    "import pandas as pd\n",
    "import sqlite3\n",
    "import matplotlib.pyplot as plt\n",
    "import seaborn as sns\n",
    "import numpy as np\n",
    "\n",
    "pd.set_option('display.max_columns', None)\n",
    "\n",
    "df = pd.read_csv('../data/ph_fires_matched_2.1.csv')"
   ]
  },
  {
   "cell_type": "markdown",
   "metadata": {},
   "source": [
    "For buildings that had an unconfined fire in 2021, how many also had an unconfined fire in a previous year?"
   ]
  },
  {
   "cell_type": "code",
   "execution_count": 2,
   "metadata": {},
   "outputs": [],
   "source": [
    "for year in range(2012, 2022):\n",
    "    df[f'any_111_{year}'] = df[f'inc_type_111_{year}'].apply(lambda x: 1 if x > 0 else 0)\n",
    "df['num_111_years'] = df[[x for x in df.columns if 'any_111_' in x]].sum(axis=1)"
   ]
  },
  {
   "cell_type": "code",
   "execution_count": 3,
   "metadata": {},
   "outputs": [
    {
     "name": "stdout",
     "output_type": "stream",
     "text": [
      "Buildings with two unconfined fire years.\n"
     ]
    },
    {
     "data": {
      "text/plain": [
       "157"
      ]
     },
     "execution_count": 3,
     "metadata": {},
     "output_type": "execute_result"
    }
   ],
   "source": [
    "print('Buildings with two unconfined fire years.')\n",
    "sum(df.num_111_years > 1)"
   ]
  },
  {
   "cell_type": "code",
   "execution_count": 4,
   "metadata": {},
   "outputs": [
    {
     "name": "stdout",
     "output_type": "stream",
     "text": [
      "Buildings (>30 units) with two unconfined fire years.\n"
     ]
    },
    {
     "data": {
      "text/plain": [
       "135"
      ]
     },
     "execution_count": 4,
     "metadata": {},
     "output_type": "execute_result"
    }
   ],
   "source": [
    "cdf = df.copy()\n",
    "cdf = cdf[cdf.total_dwelling_units > 30]\n",
    "\n",
    "print('Buildings (>30 units) with two unconfined fire years.')\n",
    "sum(cdf.num_111_years > 1)"
   ]
  },
  {
   "cell_type": "code",
   "execution_count": 5,
   "metadata": {},
   "outputs": [
    {
     "name": "stdout",
     "output_type": "stream",
     "text": [
      "Buildings (>100 units) with two unconfined fire years.\n"
     ]
    },
    {
     "data": {
      "text/plain": [
       "78"
      ]
     },
     "execution_count": 5,
     "metadata": {},
     "output_type": "execute_result"
    }
   ],
   "source": [
    "cdf = df.copy()\n",
    "cdf = cdf[cdf.total_dwelling_units > 100]\n",
    "\n",
    "print('Buildings (>100 units) with two unconfined fire years.')\n",
    "sum(cdf.num_111_years > 1)"
   ]
  },
  {
   "cell_type": "markdown",
   "metadata": {},
   "source": [
    "How does that rate compare to what we would expect by chance?"
   ]
  },
  {
   "cell_type": "code",
   "execution_count": 6,
   "metadata": {},
   "outputs": [
    {
     "name": "stdout",
     "output_type": "stream",
     "text": [
      "Sim: 0\n",
      "Sim: 10\n",
      "Sim: 20\n",
      "Sim: 30\n",
      "Sim: 40\n",
      "Sim: 50\n",
      "Sim: 60\n",
      "Sim: 70\n",
      "Sim: 80\n",
      "Sim: 90\n",
      "Sim: 100\n",
      "Sim: 110\n",
      "Sim: 120\n",
      "Sim: 130\n",
      "Sim: 140\n",
      "Sim: 150\n",
      "Sim: 160\n",
      "Sim: 170\n",
      "Sim: 180\n",
      "Sim: 190\n",
      "Sim: 200\n",
      "Sim: 210\n",
      "Sim: 220\n",
      "Sim: 230\n",
      "Sim: 240\n",
      "Sim: 250\n",
      "Sim: 260\n",
      "Sim: 270\n",
      "Sim: 280\n",
      "Sim: 290\n",
      "Buildings (all) with multiple fire years. Mean: 12.056666666666667 STD: 3.6977635883808952\n",
      "n_buildings: 179043 odds: 0.0012449523298872338\n",
      "\n"
     ]
    }
   ],
   "source": [
    "def get_summary_stats_for_type_111(df):\n",
    "    n_buildings = len(df)\n",
    "\n",
    "    inc_type_111_annual = []\n",
    "    for year in range(2012, 2022):\n",
    "        inc_type_111_annual.append(\n",
    "            len(df[df[f'inc_type_111_{year}'] > 0])\n",
    "        )\n",
    "    # Average number of buildings that have a fire across all years, \n",
    "    #     divided by total buildings in sample.\n",
    "    inc_type_111_annual_rate = np.mean(inc_type_111_annual) / len(df)\n",
    "    return n_buildings, inc_type_111_annual_rate\n",
    "\n",
    "\n",
    "def simulate(odds_fire, num_buildings, years=10):\n",
    "    outcomes = [\n",
    "        {f'fire_{year}': 0 for year in range(years)}\n",
    "        for _ in range(num_buildings)\n",
    "    ]\n",
    "    for i in range(num_buildings):\n",
    "        outcomes[i]['building'] = i\n",
    "\n",
    "    for year in range(years):\n",
    "        for building in range(num_buildings):\n",
    "            if np.random.rand() <= odds_fire:\n",
    "                outcomes[building][f'fire_{year}'] = 1\n",
    "            else:\n",
    "                outcomes[building][f'fire_{year}'] = 0\n",
    "\n",
    "    rand = pd.DataFrame(outcomes)\n",
    "\n",
    "    # Return number of buildings with 2 or more years with fire\n",
    "    rand['total'] = rand[[x for x in rand.columns if 'fire_' in x]].sum(axis=1)\n",
    "    return sum(rand.total > 1)\n",
    "\n",
    "\n",
    "def buildings_with_multiple_fire_years(n_buildings, odds_fire, n_years, n_simulations):\n",
    "    buildings_with_multiple_fire_years = []\n",
    "    for i in range(n_simulations):\n",
    "        if i % 10 == 0:\n",
    "            print('Sim:', i)\n",
    "        buildings_with_multiple_fire_years.append(\n",
    "            simulate(odds_fire, n_buildings)\n",
    "        )\n",
    "        \n",
    "    return buildings_with_multiple_fire_years\n",
    "\n",
    "\n",
    "YEARS = 10\n",
    "SIMS = 300\n",
    "\n",
    "# For all buildings\n",
    "n_buildings, odds = get_summary_stats_for_type_111(df)\n",
    "buildings = buildings_with_multiple_fire_years(n_buildings, odds, YEARS, SIMS)\n",
    "print(\n",
    "    'Buildings (all) with multiple fire years. Mean:',\n",
    "    np.mean(buildings), 'STD:', np.std(buildings)\n",
    ")\n",
    "print('n_buildings:', n_buildings, 'odds:', odds)\n",
    "print()\n",
    "\n",
    "\n"
   ]
  },
  {
   "cell_type": "code",
   "execution_count": 7,
   "metadata": {},
   "outputs": [
    {
     "name": "stdout",
     "output_type": "stream",
     "text": [
      "Sim: 0\n",
      "Sim: 10\n",
      "Sim: 20\n",
      "Sim: 30\n",
      "Sim: 40\n",
      "Sim: 50\n",
      "Sim: 60\n",
      "Sim: 70\n",
      "Sim: 80\n",
      "Sim: 90\n",
      "Sim: 100\n",
      "Sim: 110\n",
      "Sim: 120\n",
      "Sim: 130\n",
      "Sim: 140\n",
      "Sim: 150\n",
      "Sim: 160\n",
      "Sim: 170\n",
      "Sim: 180\n",
      "Sim: 190\n",
      "Sim: 200\n",
      "Sim: 210\n",
      "Sim: 220\n",
      "Sim: 230\n",
      "Sim: 240\n",
      "Sim: 250\n",
      "Sim: 260\n",
      "Sim: 270\n",
      "Sim: 280\n",
      "Sim: 290\n",
      "Buildings (>30 units) with multiple fire years. Mean: 47.403333333333336 STD: 6.9909934121617425\n",
      "n_buildings: 4064 odds: 0.016929133858267716\n",
      "\n",
      "Sim: 0\n",
      "Sim: 10\n",
      "Sim: 20\n",
      "Sim: 30\n",
      "Sim: 40\n",
      "Sim: 50\n",
      "Sim: 60\n",
      "Sim: 70\n",
      "Sim: 80\n",
      "Sim: 90\n",
      "Sim: 100\n",
      "Sim: 110\n",
      "Sim: 120\n",
      "Sim: 130\n",
      "Sim: 140\n",
      "Sim: 150\n",
      "Sim: 160\n",
      "Sim: 170\n",
      "Sim: 180\n",
      "Sim: 190\n",
      "Sim: 200\n",
      "Sim: 210\n",
      "Sim: 220\n",
      "Sim: 230\n",
      "Sim: 240\n",
      "Sim: 250\n",
      "Sim: 260\n",
      "Sim: 270\n",
      "Sim: 280\n",
      "Sim: 290\n",
      "Buildings (>100 units) with multiple fire years. Mean: 36.13666666666666 STD: 5.605769845039623\n",
      "n_buildings: 1333 odds: 0.02663165791447862\n",
      "\n"
     ]
    }
   ],
   "source": [
    "# For buildings with >30 units\n",
    "UNITS = 30\n",
    "\n",
    "cdf = df.copy()\n",
    "cdf = cdf[cdf.total_dwelling_units > UNITS]\n",
    "n_buildings_over_30, odds_over_30 = get_summary_stats_for_type_111(cdf)\n",
    "buildings = buildings_with_multiple_fire_years(n_buildings_over_30, odds_over_30, YEARS, SIMS)\n",
    "print(\n",
    "    'Buildings (>30 units) with multiple fire years. Mean:',\n",
    "    np.mean(buildings), 'STD:', np.std(buildings)\n",
    ")\n",
    "print('n_buildings:', n_buildings_over_30, 'odds:', odds_over_30)\n",
    "print()\n",
    "\n",
    "\n",
    "# For buildings with >100 units\n",
    "UNITS = 100\n",
    "\n",
    "cdf = df.copy()\n",
    "cdf = cdf[cdf.total_dwelling_units > UNITS]\n",
    "n_buildings_over_100, odds_over_100 = get_summary_stats_for_type_111(cdf)\n",
    "buildings = buildings_with_multiple_fire_years(n_buildings_over_100, odds_over_100, YEARS, SIMS)\n",
    "print(\n",
    "    'Buildings (>100 units) with multiple fire years. Mean:',\n",
    "    np.mean(buildings), 'STD:', np.std(buildings)\n",
    ")\n",
    "print('n_buildings:', n_buildings_over_100, 'odds:', odds_over_100)\n",
    "print()"
   ]
  }
 ],
 "metadata": {
  "kernelspec": {
   "display_name": ".venv",
   "language": "python",
   "name": "python3"
  },
  "language_info": {
   "codemirror_mode": {
    "name": "ipython",
    "version": 3
   },
   "file_extension": ".py",
   "mimetype": "text/x-python",
   "name": "python",
   "nbconvert_exporter": "python",
   "pygments_lexer": "ipython3",
   "version": "3.12.3"
  }
 },
 "nbformat": 4,
 "nbformat_minor": 2
}
