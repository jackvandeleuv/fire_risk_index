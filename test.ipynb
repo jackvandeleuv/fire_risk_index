{
 "cells": [
  {
   "cell_type": "code",
   "execution_count": 1,
   "metadata": {},
   "outputs": [],
   "source": [
    "import pandas as pd"
   ]
  },
  {
   "cell_type": "code",
   "execution_count": 4,
   "metadata": {},
   "outputs": [],
   "source": [
    "df = pd.read_csv('./data/nfirs/nfirs_fire_hazmat_pdr_2021/nfirs_fire_hazmat_pdr_2021/NFIRS_FIRES_2021_111422/fireincident.txt',\n",
    "            sep='^',\n",
    "                        low_memory=False,\n",
    "                        encoding='ISO-8859-1')"
   ]
  },
  {
   "cell_type": "code",
   "execution_count": 11,
   "metadata": {},
   "outputs": [
    {
     "data": {
      "text/plain": [
       "HUM_FAC_8       1.000000\n",
       "HUM_FAC_5       0.998381\n",
       "ON_SITE_M3      0.998263\n",
       "MAT_STOR3       0.998263\n",
       "AES_FAIL        0.998043\n",
       "SUP_FAC_3       0.997459\n",
       "MAT_STOR2       0.995279\n",
       "ON_SITE_M2      0.995277\n",
       "EQ_YEAR         0.994085\n",
       "SUP_FAC_2       0.993961\n",
       "NO_SPR_OP       0.992133\n",
       "DET_FAIL        0.991321\n",
       "HUM_FAC_6       0.990410\n",
       "HUM_FAC_4       0.988246\n",
       "EQ_SER_NO       0.987281\n",
       "AES_TYPE        0.986015\n",
       "AES_OPER        0.985985\n",
       "HUM_FAC_7       0.985345\n",
       "FACT_IGN_2      0.984115\n",
       "EQ_MODEL        0.983157\n",
       "AGE             0.982568\n",
       "SEX             0.981846\n",
       "HUM_FAC_2       0.977621\n",
       "EQ_BRAND        0.976303\n",
       "MAT_SPRD        0.945738\n",
       "HUM_FAC_3       0.943761\n",
       "ITEM_SPRD       0.940428\n",
       "BLDG_WIDTH      0.937896\n",
       "BLDG_LGTH       0.937896\n",
       "DET_EFFECT      0.930286\n",
       "MOB_VIN_NO      0.908486\n",
       "MOB_LIC_PL      0.893093\n",
       "DET_OPERAT      0.889700\n",
       "DET_TYPE        0.889700\n",
       "DET_POWER       0.889700\n",
       "MOB_YEAR        0.889469\n",
       "MOB_STATE       0.885020\n",
       "EQ_POWER        0.863256\n",
       "MOB_MODEL       0.862124\n",
       "EQ_PORT         0.859047\n",
       "ST_DAM_HVY      0.839294\n",
       "ST_DAM_SIG      0.838165\n",
       "ST_DAM_XTR      0.832470\n",
       "ST_DAM_MIN      0.829687\n",
       "ACRES_BURN      0.803704\n",
       "TOT_SQ_FT       0.792263\n",
       "CONF_ORIG       0.769695\n",
       "MOB_MAKE        0.766691\n",
       "MOB_TYPE        0.763153\n",
       "DETECTOR        0.731431\n",
       "AES_PRES        0.730682\n",
       "STRUC_STAT      0.730116\n",
       "FIRE_SPRD       0.729199\n",
       "FIRE_ORIG       0.728750\n",
       "BLDG_BELOW      0.727962\n",
       "BLDG_ABOVE      0.727700\n",
       "STRUC_TYPE      0.722129\n",
       "FLAME_SPRD      0.722009\n",
       "SUP_FAC_1       0.674227\n",
       "EQUIP_INV       0.618450\n",
       "MAT_STOR1       0.513696\n",
       "TYPE_MAT        0.439618\n",
       "ON_SITE_M1      0.395698\n",
       "BLDG_INVOL      0.295089\n",
       "MOB_INVOL       0.251669\n",
       "NUM_UNIT        0.197052\n",
       "LESS_1ACRE      0.123606\n",
       "HUM_FAC_1       0.118492\n",
       "NOT_RES         0.060371\n",
       "FACT_IGN_1      0.002224\n",
       "STATE           0.000023\n",
       "CAUSE_IGN       0.000020\n",
       "FIRST_IGN       0.000014\n",
       "HEAT_SOURC      0.000014\n",
       "AREA_ORIG       0.000014\n",
       "VERSION         0.000000\n",
       "EXP_NO          0.000000\n",
       "INC_NO          0.000000\n",
       "INC_DATE        0.000000\n",
       "FDID            0.000000\n",
       "INCIDENT_KEY    0.000000\n",
       "dtype: float64"
      ]
     },
     "metadata": {},
     "output_type": "display_data"
    }
   ],
   "source": [
    "pd.set_option('display.max_rows', 200)\n",
    "display((df.isna().sum() / len(df)).sort_values(ascending=False))\n",
    "pd.set_option('display.max_rows', 10)"
   ]
  },
  {
   "cell_type": "code",
   "execution_count": 9,
   "metadata": {},
   "outputs": [
    {
     "data": {
      "text/plain": [
       "array([ 3., nan])"
      ]
     },
     "execution_count": 9,
     "metadata": {},
     "output_type": "execute_result"
    }
   ],
   "source": [
    "df.HUM_FAC_3.unique()"
   ]
  }
 ],
 "metadata": {
  "kernelspec": {
   "display_name": "base",
   "language": "python",
   "name": "python3"
  },
  "language_info": {
   "codemirror_mode": {
    "name": "ipython",
    "version": 3
   },
   "file_extension": ".py",
   "mimetype": "text/x-python",
   "name": "python",
   "nbconvert_exporter": "python",
   "pygments_lexer": "ipython3",
   "version": "3.10.9"
  },
  "orig_nbformat": 4
 },
 "nbformat": 4,
 "nbformat_minor": 2
}
