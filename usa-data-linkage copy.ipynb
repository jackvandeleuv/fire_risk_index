{
 "cells": [
  {
   "cell_type": "code",
   "execution_count": 1,
   "metadata": {},
   "outputs": [],
   "source": [
    "import pandas as pd\n",
    "import sqlite3\n",
    "import matplotlib.pyplot as plt\n",
    "import numpy as np\n",
    "import re\n",
    "import seaborn as sns\n",
    "import time\n",
    "import requests\n",
    "from sklearn.preprocessing import LabelEncoder\n",
    "\n",
    "pd.set_option('display.max_columns', None)"
   ]
  },
  {
   "cell_type": "markdown",
   "metadata": {},
   "source": [
    "Start with Philadelphia, public housing, and all fire incidents 2021."
   ]
  },
  {
   "cell_type": "code",
   "execution_count": 2,
   "metadata": {},
   "outputs": [],
   "source": [
    "# 20 minutes to run\n",
    "conn = sqlite3.Connection('./data/nfirs/fire_data.db')\n",
    "df = pd.read_sql(\"\"\"\n",
    "    select \n",
    "        INC_TYPE, \n",
    "        NUM_MILE,\n",
    "        STREET_PRE,\n",
    "        STREETNAME,\n",
    "        STREETTYPE,\n",
    "        STREETSUF,\n",
    "        APT_NO,\n",
    "        ia.STATE,\n",
    "        ia.CITY,\n",
    "        ia.ZIP5,\n",
    "        bi.PROP_LOSS,\n",
    "        bi.CONT_LOSS,\n",
    "        bi.OTH_DEATH,\n",
    "        bi.OTH_INJ,\n",
    "        bi.FF_DEATH,\n",
    "        bi.FF_INJ,\n",
    "        cast(substr(ia.INC_DATE, length(ia.INC_DATE) - 3, 4) AS integer) as inc_year\n",
    "    from basic_incident bi\n",
    "        join incident_address ia\n",
    "        using (INCIDENT_KEY)\n",
    "    where cast(substr(bi.INC_DATE, length(bi.INC_DATE) - 3, 4) AS integer) > 2014\n",
    "        and cast(substr(ia.INC_DATE, length(ia.INC_DATE) - 3, 4) AS integer) > 2014\n",
    "        and bi.inc_type <= 200\n",
    "\"\"\", conn)"
   ]
  },
  {
   "cell_type": "code",
   "execution_count": 3,
   "metadata": {},
   "outputs": [],
   "source": [
    "df.columns = [x.lower() for x in df.columns]"
   ]
  },
  {
   "cell_type": "code",
   "execution_count": 5,
   "metadata": {},
   "outputs": [],
   "source": [
    "# 21 minutes to run\n",
    "df['address'] = df[['num_mile', 'street_pre', 'streetname', 'streettype', 'streetsuf', 'apt_no']] \\\n",
    "    .apply(lambda x: ' '.join(x.dropna().astype(str)), axis=1)"
   ]
  },
  {
   "cell_type": "code",
   "execution_count": 8,
   "metadata": {},
   "outputs": [
    {
     "data": {
      "text/plain": [
       "52"
      ]
     },
     "execution_count": 8,
     "metadata": {},
     "output_type": "execute_result"
    }
   ],
   "source": [
    "df.state.nunique()"
   ]
  },
  {
   "cell_type": "code",
   "execution_count": 25,
   "metadata": {},
   "outputs": [
    {
     "data": {
      "text/plain": [
       "inc_type\n",
       "111    1905872\n",
       "113     808354\n",
       "131     785355\n",
       "142     649914\n",
       "151     621113\n",
       "143     561741\n",
       "150     289788\n",
       "100     284786\n",
       "118     269018\n",
       "154     221103\n",
       "140     194341\n",
       "141     178879\n",
       "130     120342\n",
       "114     107681\n",
       "112     103117\n",
       "132     102356\n",
       "160      95225\n",
       "162      66191\n",
       "121      60288\n",
       "138      58921\n",
       "116      48442\n",
       "161      29896\n",
       "122      20147\n",
       "137      19369\n",
       "171      16475\n",
       "170      16410\n",
       "153      10071\n",
       "134       9990\n",
       "123       9290\n",
       "117       9145\n",
       "152       8729\n",
       "173       7296\n",
       "120       6399\n",
       "115       6154\n",
       "163       6026\n",
       "155       4136\n",
       "133       3697\n",
       "136       3322\n",
       "110       2058\n",
       "164       2011\n",
       "135       1667\n",
       "172       1031\n",
       "dtype: int64"
      ]
     },
     "execution_count": 25,
     "metadata": {},
     "output_type": "execute_result"
    }
   ],
   "source": [
    "df.groupby('inc_type').size().sort_values(ascending=False)"
   ]
  },
  {
   "cell_type": "code",
   "execution_count": 9,
   "metadata": {},
   "outputs": [],
   "source": [
    "df.address = df.address.str.upper()"
   ]
  },
  {
   "cell_type": "code",
   "execution_count": 10,
   "metadata": {},
   "outputs": [
    {
     "name": "stderr",
     "output_type": "stream",
     "text": [
      "C:\\Users\\jackv\\AppData\\Local\\Temp\\ipykernel_20992\\2237559633.py:1: DtypeWarning: Columns (104) have mixed types. Specify dtype option on import or set low_memory=False.\n",
      "  public = pd.read_csv('./data/Public_Housing_Buildings.csv')\n"
     ]
    }
   ],
   "source": [
    "public = pd.read_csv('./data/Public_Housing_Buildings.csv')\n",
    "public.columns = [x.lower() for x in public.columns]"
   ]
  },
  {
   "cell_type": "code",
   "execution_count": 11,
   "metadata": {},
   "outputs": [],
   "source": [
    "public['std_addr'] = public.std_addr.str.upper()\n",
    "public['std_st'] = public.std_st.str.upper()\n",
    "public['std_city'] = public.std_city.str.upper()"
   ]
  },
  {
   "cell_type": "code",
   "execution_count": 27,
   "metadata": {},
   "outputs": [],
   "source": [
    "# For the 2015-2019 data\n",
    "fire_specific15 = df[(df['inc_type'].isin([111, 113])) & (df.inc_year.astype(int) < 2020)] \\\n",
    "    .groupby(['address', 'city', 'state', 'zip5']) \\\n",
    "    .size().reset_index()\n",
    "fire_specific15.columns = ['address', 'city', 'state', 'zip5', 'house+cooking_fires_15-19']\n",
    "fire_specific15 = fire_specific15.fillna(0) \n",
    "public = public.merge(fire_specific15, \n",
    "    left_on=['std_addr', 'std_city', 'std_st', 'std_zip5'], \n",
    "    right_on=['address', 'city', 'state', 'zip5'], how='left') \\\n",
    "    .drop(['address', 'city', 'state', 'zip5'], axis=1)\n",
    "public[['house+cooking_fires_15-19']] = public[['house+cooking_fires_15-19']].fillna(0).astype(int)\n",
    "\n",
    "# For the 2020-2021 validation data\n",
    "fire_specific20 = df[(df['inc_type'].isin([111, 113])) & (df.inc_year.astype(int) >= 2020)] \\\n",
    "    .groupby(['address', 'city', 'state', 'zip5']) \\\n",
    "    .size().reset_index()\n",
    "fire_specific20.columns = ['address', 'city', 'state', 'zip5', 'house+cooking_fires_20-21']\n",
    "fire_specific20 = fire_specific20.fillna(0) \n",
    "public = public.merge(fire_specific20, \n",
    "    left_on=['std_addr', 'std_city', 'std_st', 'std_zip5'], \n",
    "    right_on=['address', 'city', 'state', 'zip5'], how='left') \\\n",
    "    .drop(['address', 'city', 'state', 'zip5'], axis=1)\n",
    "public[['house+cooking_fires_20-21']] = public[['house+cooking_fires_20-21']].fillna(0).astype(int)"
   ]
  },
  {
   "cell_type": "code",
   "execution_count": 81,
   "metadata": {},
   "outputs": [],
   "source": [
    "# from scipy.stats import pearsonr\n",
    "\n",
    "# corrs = []\n",
    "# public_pa_ny = public\n",
    "# # Iterate over numerical columns in pr\n",
    "# for col in public.select_dtypes(include='number').columns:\n",
    "#     if col not in ['all_fires', 'block2kx', 'bg2kx', 'place_inc2kx', \n",
    "#                    'hlc', 'dpvrc', 'std_zip9', 'dpbc', 'dpbc_cksum', 'std_zip11', \n",
    "#                    'c1pprb', 'blkgrp_level', 'exec_dir_fax', \n",
    "#                    'national_bldg_id', 'dpvact', 'dpvnost', 'place2kx',\n",
    "#                    'dpv', 'zcta2kx', 'place_level', 'annl_expns_amnt_prev_yr', 'x', 'y',\n",
    "#                    'state2kx', 'cnty2kx', 'tract2kx', 'curcnty', 'curcosub', 'msa',\n",
    "#                    'cbsa', 'necta', 'metro', 'micro', 'lat', 'lon', 'county_level',\n",
    "#                    'tract_level', 'ha_fax_num', 'exec_dir_phone', 'house+cooking_fires_15-19',\n",
    "#                     'house+cooking_fires_20-21']:\n",
    "#         # Get correlation and p-value\n",
    "#         correlation, p_value = pearsonr(public[col], public['house+cooking_fires_15-19'])\n",
    "#         corrs.append((col, correlation, p_value))\n",
    "\n",
    "# corrs_df = pd.DataFrame(corrs, columns=['columns', 'corr', 'p_value'])\n",
    "# corrs_df['significant'] = corrs_df['p_value'] < 0.05"
   ]
  },
  {
   "cell_type": "code",
   "execution_count": 86,
   "metadata": {},
   "outputs": [],
   "source": [
    "public.to_csv('fires_in_ph.csv', index=False)"
   ]
  }
 ],
 "metadata": {
  "kernelspec": {
   "display_name": "base",
   "language": "python",
   "name": "python3"
  },
  "language_info": {
   "codemirror_mode": {
    "name": "ipython",
    "version": 3
   },
   "file_extension": ".py",
   "mimetype": "text/x-python",
   "name": "python",
   "nbconvert_exporter": "python",
   "pygments_lexer": "ipython3",
   "version": "3.10.9"
  },
  "orig_nbformat": 4
 },
 "nbformat": 4,
 "nbformat_minor": 2
}
