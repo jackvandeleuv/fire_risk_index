{
 "cells": [
  {
   "cell_type": "code",
   "execution_count": 1,
   "metadata": {},
   "outputs": [],
   "source": [
    "import pandas as pd\n",
    "import sqlite3\n",
    "import matplotlib.pyplot as plt\n",
    "import numpy as np\n",
    "import re\n",
    "import seaborn as sns\n",
    "import time\n",
    "import requests\n",
    "from sklearn.preprocessing import LabelEncoder\n",
    "\n",
    "pd.set_option('display.max_columns', None)"
   ]
  },
  {
   "cell_type": "code",
   "execution_count": 2,
   "metadata": {},
   "outputs": [
    {
     "name": "stderr",
     "output_type": "stream",
     "text": [
      "C:\\Users\\jackv\\AppData\\Local\\Temp\\ipykernel_12784\\2703195330.py:1: DtypeWarning: Columns (99,104,109) have mixed types. Specify dtype option on import or set low_memory=False.\n",
      "  df = pd.read_csv('./fires_in_ph.csv')\n"
     ]
    }
   ],
   "source": [
    "df = pd.read_csv('./fires_in_ph.csv')"
   ]
  },
  {
   "cell_type": "code",
   "execution_count": 3,
   "metadata": {},
   "outputs": [],
   "source": [
    "from scipy.stats import pearsonr\n",
    "\n",
    "corrs = []\n",
    "public_pa_ny = df\n",
    "# Iterate over numerical columns in pr\n",
    "for col in df.select_dtypes(include='number').columns:\n",
    "    if col not in ['all_fires', 'block2kx', 'bg2kx', 'place_inc2kx', \n",
    "                   'hlc', 'dpvrc', 'std_zip9', 'dpbc', 'dpbc_cksum', 'std_zip11', \n",
    "                   'c1pprb', 'blkgrp_level', 'exec_dir_fax', \n",
    "                   'national_bldg_id', 'dpvact', 'dpvnost', 'place2kx',\n",
    "                   'dpv', 'zcta2kx', 'place_level', 'x', 'y',\n",
    "                   'state2kx', 'cnty2kx', 'tract2kx', 'curcnty', 'curcosub', 'msa',\n",
    "                   'cbsa', 'necta', 'lat', 'lon', 'county_level',\n",
    "                   'tract_level', 'ha_fax_num', 'exec_dir_phone', 'house+cooking_fires_15-19',\n",
    "                    'house+cooking_fires_20-21', 'ha_phn_num']:\n",
    "        df['micro'] = df.micro.fillna(df.micro.mean())\n",
    "        df['metro'] = df.micro.fillna(df.micro.mean())\n",
    "        df['annl_expns_amnt_prev_yr'] = df.annl_expns_amnt_prev_yr.fillna(df.annl_expns_amnt_prev_yr.mean())\n",
    "        df['std_zip5'] = df.std_zip5.fillna(-1)\n",
    "        df['pha_total_units'] = df.pha_total_units.fillna(df.pha_total_units.mean())\n",
    "\n",
    "        # Get correlation and p-value\n",
    "        correlation, p_value = pearsonr(df[col], df['building_fires_11_19'])\n",
    "        correlation2, p_value2 = pearsonr(df[col], df['building_fires_20_21'])\n",
    "\n",
    "        corrs.append((col, correlation, p_value, correlation2, p_value2))\n",
    "\n",
    "corrs_df = pd.DataFrame(corrs, columns=['columns', 'corr', 'p_value', 'corr2', 'p_value2'])\n",
    "corrs_df['significant1'] = corrs_df['p_value'] < 0.05\n",
    "corrs_df['significant2'] = corrs_df['p_value2'] < 0.05"
   ]
  },
  {
   "cell_type": "code",
   "execution_count": 4,
   "metadata": {},
   "outputs": [
    {
     "data": {
      "text/html": [
       "<div>\n",
       "<style scoped>\n",
       "    .dataframe tbody tr th:only-of-type {\n",
       "        vertical-align: middle;\n",
       "    }\n",
       "\n",
       "    .dataframe tbody tr th {\n",
       "        vertical-align: top;\n",
       "    }\n",
       "\n",
       "    .dataframe thead th {\n",
       "        text-align: right;\n",
       "    }\n",
       "</style>\n",
       "<table border=\"1\" class=\"dataframe\">\n",
       "  <thead>\n",
       "    <tr style=\"text-align: right;\">\n",
       "      <th></th>\n",
       "      <th>columns</th>\n",
       "      <th>corr</th>\n",
       "      <th>p_value</th>\n",
       "      <th>corr2</th>\n",
       "      <th>p_value2</th>\n",
       "      <th>significant1</th>\n",
       "      <th>significant2</th>\n",
       "    </tr>\n",
       "  </thead>\n",
       "  <tbody>\n",
       "    <tr>\n",
       "      <th>64</th>\n",
       "      <td>std_zip5</td>\n",
       "      <td>-0.029856</td>\n",
       "      <td>4.224570e-39</td>\n",
       "      <td>-0.017403</td>\n",
       "      <td>2.464008e-14</td>\n",
       "      <td>True</td>\n",
       "      <td>True</td>\n",
       "    </tr>\n",
       "    <tr>\n",
       "      <th>63</th>\n",
       "      <td>micro</td>\n",
       "      <td>-0.012225</td>\n",
       "      <td>8.536863e-08</td>\n",
       "      <td>-0.009588</td>\n",
       "      <td>2.669673e-05</td>\n",
       "      <td>True</td>\n",
       "      <td>True</td>\n",
       "    </tr>\n",
       "    <tr>\n",
       "      <th>62</th>\n",
       "      <td>metro</td>\n",
       "      <td>-0.012225</td>\n",
       "      <td>8.536863e-08</td>\n",
       "      <td>-0.009588</td>\n",
       "      <td>2.669673e-05</td>\n",
       "      <td>True</td>\n",
       "      <td>True</td>\n",
       "    </tr>\n",
       "    <tr>\n",
       "      <th>67</th>\n",
       "      <td>pha_total_units</td>\n",
       "      <td>-0.005179</td>\n",
       "      <td>2.328744e-02</td>\n",
       "      <td>-0.003475</td>\n",
       "      <td>1.279051e-01</td>\n",
       "      <td>True</td>\n",
       "      <td>False</td>\n",
       "    </tr>\n",
       "    <tr>\n",
       "      <th>52</th>\n",
       "      <td>pct_bed3</td>\n",
       "      <td>0.017241</td>\n",
       "      <td>4.256355e-14</td>\n",
       "      <td>0.015277</td>\n",
       "      <td>2.197647e-11</td>\n",
       "      <td>True</td>\n",
       "      <td>True</td>\n",
       "    </tr>\n",
       "    <tr>\n",
       "      <th>32</th>\n",
       "      <td>pct_female_head_child</td>\n",
       "      <td>0.021557</td>\n",
       "      <td>3.581862e-21</td>\n",
       "      <td>0.018319</td>\n",
       "      <td>1.012084e-15</td>\n",
       "      <td>True</td>\n",
       "      <td>True</td>\n",
       "    </tr>\n",
       "    <tr>\n",
       "      <th>51</th>\n",
       "      <td>pct_bed2</td>\n",
       "      <td>0.021564</td>\n",
       "      <td>3.489301e-21</td>\n",
       "      <td>0.017245</td>\n",
       "      <td>4.195201e-14</td>\n",
       "      <td>True</td>\n",
       "      <td>True</td>\n",
       "    </tr>\n",
       "    <tr>\n",
       "      <th>30</th>\n",
       "      <td>pct_1adult</td>\n",
       "      <td>0.021690</td>\n",
       "      <td>2.049272e-21</td>\n",
       "      <td>0.018542</td>\n",
       "      <td>4.551489e-16</td>\n",
       "      <td>True</td>\n",
       "      <td>True</td>\n",
       "    </tr>\n",
       "    <tr>\n",
       "      <th>53</th>\n",
       "      <td>pct_overhoused</td>\n",
       "      <td>0.022580</td>\n",
       "      <td>4.491682e-23</td>\n",
       "      <td>0.018823</td>\n",
       "      <td>1.636836e-16</td>\n",
       "      <td>True</td>\n",
       "      <td>True</td>\n",
       "    </tr>\n",
       "    <tr>\n",
       "      <th>57</th>\n",
       "      <td>chldrn_mbr_cnt</td>\n",
       "      <td>0.030425</td>\n",
       "      <td>1.535343e-40</td>\n",
       "      <td>0.024088</td>\n",
       "      <td>4.922862e-26</td>\n",
       "      <td>True</td>\n",
       "      <td>True</td>\n",
       "    </tr>\n",
       "    <tr>\n",
       "      <th>18</th>\n",
       "      <td>pct_lt5k</td>\n",
       "      <td>0.033106</td>\n",
       "      <td>1.110776e-47</td>\n",
       "      <td>0.028114</td>\n",
       "      <td>7.290145e-35</td>\n",
       "      <td>True</td>\n",
       "      <td>True</td>\n",
       "    </tr>\n",
       "    <tr>\n",
       "      <th>49</th>\n",
       "      <td>ave_util_allow</td>\n",
       "      <td>0.033407</td>\n",
       "      <td>1.610308e-48</td>\n",
       "      <td>0.029471</td>\n",
       "      <td>3.829443e-38</td>\n",
       "      <td>True</td>\n",
       "      <td>True</td>\n",
       "    </tr>\n",
       "    <tr>\n",
       "      <th>48</th>\n",
       "      <td>pct_utility_allow</td>\n",
       "      <td>0.037117</td>\n",
       "      <td>1.759074e-59</td>\n",
       "      <td>0.036705</td>\n",
       "      <td>3.319698e-58</td>\n",
       "      <td>True</td>\n",
       "      <td>True</td>\n",
       "    </tr>\n",
       "    <tr>\n",
       "      <th>45</th>\n",
       "      <td>pct_hispanic</td>\n",
       "      <td>0.043844</td>\n",
       "      <td>2.787715e-82</td>\n",
       "      <td>0.027673</td>\n",
       "      <td>7.835575e-34</td>\n",
       "      <td>True</td>\n",
       "      <td>True</td>\n",
       "    </tr>\n",
       "    <tr>\n",
       "      <th>37</th>\n",
       "      <td>pct_age25_50</td>\n",
       "      <td>0.046545</td>\n",
       "      <td>1.675593e-92</td>\n",
       "      <td>0.040165</td>\n",
       "      <td>2.414472e-69</td>\n",
       "      <td>True</td>\n",
       "      <td>True</td>\n",
       "    </tr>\n",
       "    <tr>\n",
       "      <th>23</th>\n",
       "      <td>pct_wage_major</td>\n",
       "      <td>0.048095</td>\n",
       "      <td>1.219791e-98</td>\n",
       "      <td>0.039847</td>\n",
       "      <td>2.802259e-68</td>\n",
       "      <td>True</td>\n",
       "      <td>True</td>\n",
       "    </tr>\n",
       "    <tr>\n",
       "      <th>36</th>\n",
       "      <td>pct_lt24_head</td>\n",
       "      <td>0.053099</td>\n",
       "      <td>7.760352e-120</td>\n",
       "      <td>0.045454</td>\n",
       "      <td>2.656540e-88</td>\n",
       "      <td>True</td>\n",
       "      <td>True</td>\n",
       "    </tr>\n",
       "    <tr>\n",
       "      <th>24</th>\n",
       "      <td>pct_welfare_major</td>\n",
       "      <td>0.055984</td>\n",
       "      <td>5.151478e-133</td>\n",
       "      <td>0.042964</td>\n",
       "      <td>4.373097e-79</td>\n",
       "      <td>True</td>\n",
       "      <td>True</td>\n",
       "    </tr>\n",
       "    <tr>\n",
       "      <th>47</th>\n",
       "      <td>months_from_movein</td>\n",
       "      <td>0.064343</td>\n",
       "      <td>3.888969e-175</td>\n",
       "      <td>0.052969</td>\n",
       "      <td>2.934813e-119</td>\n",
       "      <td>True</td>\n",
       "      <td>True</td>\n",
       "    </tr>\n",
       "    <tr>\n",
       "      <th>29</th>\n",
       "      <td>pct_2adults</td>\n",
       "      <td>0.068518</td>\n",
       "      <td>2.225440e-198</td>\n",
       "      <td>0.057989</td>\n",
       "      <td>1.392631e-142</td>\n",
       "      <td>True</td>\n",
       "      <td>True</td>\n",
       "    </tr>\n",
       "    <tr>\n",
       "      <th>22</th>\n",
       "      <td>pct_ge20k</td>\n",
       "      <td>0.073755</td>\n",
       "      <td>1.301941e-229</td>\n",
       "      <td>0.059584</td>\n",
       "      <td>1.955071e-150</td>\n",
       "      <td>True</td>\n",
       "      <td>True</td>\n",
       "    </tr>\n",
       "    <tr>\n",
       "      <th>44</th>\n",
       "      <td>pct_asian</td>\n",
       "      <td>0.074971</td>\n",
       "      <td>3.400513e-237</td>\n",
       "      <td>0.062180</td>\n",
       "      <td>1.136338e-163</td>\n",
       "      <td>True</td>\n",
       "      <td>True</td>\n",
       "    </tr>\n",
       "    <tr>\n",
       "      <th>19</th>\n",
       "      <td>pct_5k_lt10k</td>\n",
       "      <td>0.080505</td>\n",
       "      <td>2.688187e-273</td>\n",
       "      <td>0.077323</td>\n",
       "      <td>3.200038e-252</td>\n",
       "      <td>True</td>\n",
       "      <td>True</td>\n",
       "    </tr>\n",
       "    <tr>\n",
       "      <th>56</th>\n",
       "      <td>tpct_ownsfd</td>\n",
       "      <td>0.081489</td>\n",
       "      <td>5.482911e-280</td>\n",
       "      <td>0.066866</td>\n",
       "      <td>5.262573e-189</td>\n",
       "      <td>True</td>\n",
       "      <td>True</td>\n",
       "    </tr>\n",
       "    <tr>\n",
       "      <th>54</th>\n",
       "      <td>tminority</td>\n",
       "      <td>0.087609</td>\n",
       "      <td>1.976263e-323</td>\n",
       "      <td>0.061541</td>\n",
       "      <td>2.329701e-160</td>\n",
       "      <td>True</td>\n",
       "      <td>True</td>\n",
       "    </tr>\n",
       "    <tr>\n",
       "      <th>31</th>\n",
       "      <td>pct_female_head</td>\n",
       "      <td>0.088856</td>\n",
       "      <td>0.000000e+00</td>\n",
       "      <td>0.072072</td>\n",
       "      <td>2.532030e-219</td>\n",
       "      <td>True</td>\n",
       "      <td>True</td>\n",
       "    </tr>\n",
       "    <tr>\n",
       "      <th>55</th>\n",
       "      <td>tpoverty</td>\n",
       "      <td>0.090293</td>\n",
       "      <td>0.000000e+00</td>\n",
       "      <td>0.072352</td>\n",
       "      <td>5.094622e-221</td>\n",
       "      <td>True</td>\n",
       "      <td>True</td>\n",
       "    </tr>\n",
       "    <tr>\n",
       "      <th>41</th>\n",
       "      <td>pct_minority</td>\n",
       "      <td>0.092194</td>\n",
       "      <td>0.000000e+00</td>\n",
       "      <td>0.069368</td>\n",
       "      <td>2.745959e-203</td>\n",
       "      <td>True</td>\n",
       "      <td>True</td>\n",
       "    </tr>\n",
       "    <tr>\n",
       "      <th>26</th>\n",
       "      <td>pct_median</td>\n",
       "      <td>0.093264</td>\n",
       "      <td>0.000000e+00</td>\n",
       "      <td>0.077286</td>\n",
       "      <td>5.535127e-252</td>\n",
       "      <td>True</td>\n",
       "      <td>True</td>\n",
       "    </tr>\n",
       "    <tr>\n",
       "      <th>16</th>\n",
       "      <td>hh_income</td>\n",
       "      <td>0.100255</td>\n",
       "      <td>0.000000e+00</td>\n",
       "      <td>0.080017</td>\n",
       "      <td>5.219344e-270</td>\n",
       "      <td>True</td>\n",
       "      <td>True</td>\n",
       "    </tr>\n",
       "    <tr>\n",
       "      <th>13</th>\n",
       "      <td>rent_per_month</td>\n",
       "      <td>0.101069</td>\n",
       "      <td>0.000000e+00</td>\n",
       "      <td>0.079161</td>\n",
       "      <td>2.733902e-264</td>\n",
       "      <td>True</td>\n",
       "      <td>True</td>\n",
       "    </tr>\n",
       "    <tr>\n",
       "      <th>43</th>\n",
       "      <td>pct_native_american</td>\n",
       "      <td>0.105761</td>\n",
       "      <td>0.000000e+00</td>\n",
       "      <td>0.087873</td>\n",
       "      <td>0.000000e+00</td>\n",
       "      <td>True</td>\n",
       "      <td>True</td>\n",
       "    </tr>\n",
       "    <tr>\n",
       "      <th>42</th>\n",
       "      <td>pct_black</td>\n",
       "      <td>0.106373</td>\n",
       "      <td>0.000000e+00</td>\n",
       "      <td>0.085773</td>\n",
       "      <td>4.501608e-310</td>\n",
       "      <td>True</td>\n",
       "      <td>True</td>\n",
       "    </tr>\n",
       "    <tr>\n",
       "      <th>46</th>\n",
       "      <td>months_waiting</td>\n",
       "      <td>0.107380</td>\n",
       "      <td>0.000000e+00</td>\n",
       "      <td>0.061977</td>\n",
       "      <td>1.295872e-162</td>\n",
       "      <td>True</td>\n",
       "      <td>True</td>\n",
       "    </tr>\n",
       "    <tr>\n",
       "      <th>11</th>\n",
       "      <td>people_per_unit</td>\n",
       "      <td>0.107411</td>\n",
       "      <td>0.000000e+00</td>\n",
       "      <td>0.088106</td>\n",
       "      <td>0.000000e+00</td>\n",
       "      <td>True</td>\n",
       "      <td>True</td>\n",
       "    </tr>\n",
       "    <tr>\n",
       "      <th>61</th>\n",
       "      <td>median_inc_amnt</td>\n",
       "      <td>0.107956</td>\n",
       "      <td>0.000000e+00</td>\n",
       "      <td>0.086982</td>\n",
       "      <td>7.488553e-319</td>\n",
       "      <td>True</td>\n",
       "      <td>True</td>\n",
       "    </tr>\n",
       "    <tr>\n",
       "      <th>40</th>\n",
       "      <td>pct_age85plus</td>\n",
       "      <td>0.108167</td>\n",
       "      <td>0.000000e+00</td>\n",
       "      <td>0.085907</td>\n",
       "      <td>4.813746e-311</td>\n",
       "      <td>True</td>\n",
       "      <td>True</td>\n",
       "    </tr>\n",
       "    <tr>\n",
       "      <th>14</th>\n",
       "      <td>spending_per_month</td>\n",
       "      <td>0.109076</td>\n",
       "      <td>0.000000e+00</td>\n",
       "      <td>0.089192</td>\n",
       "      <td>0.000000e+00</td>\n",
       "      <td>True</td>\n",
       "      <td>True</td>\n",
       "    </tr>\n",
       "    <tr>\n",
       "      <th>21</th>\n",
       "      <td>pct_15k_lt20k</td>\n",
       "      <td>0.115851</td>\n",
       "      <td>0.000000e+00</td>\n",
       "      <td>0.093232</td>\n",
       "      <td>0.000000e+00</td>\n",
       "      <td>True</td>\n",
       "      <td>True</td>\n",
       "    </tr>\n",
       "    <tr>\n",
       "      <th>10</th>\n",
       "      <td>pct_movein</td>\n",
       "      <td>0.117203</td>\n",
       "      <td>0.000000e+00</td>\n",
       "      <td>0.096602</td>\n",
       "      <td>0.000000e+00</td>\n",
       "      <td>True</td>\n",
       "      <td>True</td>\n",
       "    </tr>\n",
       "    <tr>\n",
       "      <th>9</th>\n",
       "      <td>months_since_report</td>\n",
       "      <td>0.118298</td>\n",
       "      <td>0.000000e+00</td>\n",
       "      <td>0.098746</td>\n",
       "      <td>0.000000e+00</td>\n",
       "      <td>True</td>\n",
       "      <td>True</td>\n",
       "    </tr>\n",
       "    <tr>\n",
       "      <th>15</th>\n",
       "      <td>spending_per_month_prev_yr</td>\n",
       "      <td>0.119910</td>\n",
       "      <td>0.000000e+00</td>\n",
       "      <td>0.096803</td>\n",
       "      <td>0.000000e+00</td>\n",
       "      <td>True</td>\n",
       "      <td>True</td>\n",
       "    </tr>\n",
       "    <tr>\n",
       "      <th>38</th>\n",
       "      <td>pct_age51_61</td>\n",
       "      <td>0.121542</td>\n",
       "      <td>0.000000e+00</td>\n",
       "      <td>0.099977</td>\n",
       "      <td>0.000000e+00</td>\n",
       "      <td>True</td>\n",
       "      <td>True</td>\n",
       "    </tr>\n",
       "    <tr>\n",
       "      <th>60</th>\n",
       "      <td>pct_lt80_median</td>\n",
       "      <td>0.123042</td>\n",
       "      <td>0.000000e+00</td>\n",
       "      <td>0.100780</td>\n",
       "      <td>0.000000e+00</td>\n",
       "      <td>True</td>\n",
       "      <td>True</td>\n",
       "    </tr>\n",
       "    <tr>\n",
       "      <th>8</th>\n",
       "      <td>pct_reported</td>\n",
       "      <td>0.123653</td>\n",
       "      <td>0.000000e+00</td>\n",
       "      <td>0.101503</td>\n",
       "      <td>0.000000e+00</td>\n",
       "      <td>True</td>\n",
       "      <td>True</td>\n",
       "    </tr>\n",
       "    <tr>\n",
       "      <th>27</th>\n",
       "      <td>pct_lt50_median</td>\n",
       "      <td>0.127227</td>\n",
       "      <td>0.000000e+00</td>\n",
       "      <td>0.103872</td>\n",
       "      <td>0.000000e+00</td>\n",
       "      <td>True</td>\n",
       "      <td>True</td>\n",
       "    </tr>\n",
       "    <tr>\n",
       "      <th>4</th>\n",
       "      <td>regular_vacant</td>\n",
       "      <td>0.129116</td>\n",
       "      <td>0.000000e+00</td>\n",
       "      <td>0.090078</td>\n",
       "      <td>0.000000e+00</td>\n",
       "      <td>True</td>\n",
       "      <td>True</td>\n",
       "    </tr>\n",
       "    <tr>\n",
       "      <th>34</th>\n",
       "      <td>pct_disabled_ge62</td>\n",
       "      <td>0.130969</td>\n",
       "      <td>0.000000e+00</td>\n",
       "      <td>0.102134</td>\n",
       "      <td>0.000000e+00</td>\n",
       "      <td>True</td>\n",
       "      <td>True</td>\n",
       "    </tr>\n",
       "    <tr>\n",
       "      <th>28</th>\n",
       "      <td>pct_lt30_median</td>\n",
       "      <td>0.131446</td>\n",
       "      <td>0.000000e+00</td>\n",
       "      <td>0.106036</td>\n",
       "      <td>0.000000e+00</td>\n",
       "      <td>True</td>\n",
       "      <td>True</td>\n",
       "    </tr>\n",
       "    <tr>\n",
       "      <th>17</th>\n",
       "      <td>person_income</td>\n",
       "      <td>0.140965</td>\n",
       "      <td>0.000000e+00</td>\n",
       "      <td>0.112657</td>\n",
       "      <td>0.000000e+00</td>\n",
       "      <td>True</td>\n",
       "      <td>True</td>\n",
       "    </tr>\n",
       "    <tr>\n",
       "      <th>59</th>\n",
       "      <td>pct_disabled_lt62_all</td>\n",
       "      <td>0.145461</td>\n",
       "      <td>0.000000e+00</td>\n",
       "      <td>0.121977</td>\n",
       "      <td>0.000000e+00</td>\n",
       "      <td>True</td>\n",
       "      <td>True</td>\n",
       "    </tr>\n",
       "    <tr>\n",
       "      <th>12</th>\n",
       "      <td>people_total</td>\n",
       "      <td>0.151126</td>\n",
       "      <td>0.000000e+00</td>\n",
       "      <td>0.127697</td>\n",
       "      <td>0.000000e+00</td>\n",
       "      <td>True</td>\n",
       "      <td>True</td>\n",
       "    </tr>\n",
       "    <tr>\n",
       "      <th>39</th>\n",
       "      <td>pct_age62plus</td>\n",
       "      <td>0.154592</td>\n",
       "      <td>0.000000e+00</td>\n",
       "      <td>0.124236</td>\n",
       "      <td>0.000000e+00</td>\n",
       "      <td>True</td>\n",
       "      <td>True</td>\n",
       "    </tr>\n",
       "    <tr>\n",
       "      <th>25</th>\n",
       "      <td>pct_other_major</td>\n",
       "      <td>0.160295</td>\n",
       "      <td>0.000000e+00</td>\n",
       "      <td>0.129905</td>\n",
       "      <td>0.000000e+00</td>\n",
       "      <td>True</td>\n",
       "      <td>True</td>\n",
       "    </tr>\n",
       "    <tr>\n",
       "      <th>58</th>\n",
       "      <td>eldly_prcnt</td>\n",
       "      <td>0.165093</td>\n",
       "      <td>0.000000e+00</td>\n",
       "      <td>0.132419</td>\n",
       "      <td>0.000000e+00</td>\n",
       "      <td>True</td>\n",
       "      <td>True</td>\n",
       "    </tr>\n",
       "    <tr>\n",
       "      <th>20</th>\n",
       "      <td>pct_10k_lt15k</td>\n",
       "      <td>0.170361</td>\n",
       "      <td>0.000000e+00</td>\n",
       "      <td>0.134189</td>\n",
       "      <td>0.000000e+00</td>\n",
       "      <td>True</td>\n",
       "      <td>True</td>\n",
       "    </tr>\n",
       "    <tr>\n",
       "      <th>33</th>\n",
       "      <td>pct_disabled_lt62</td>\n",
       "      <td>0.174869</td>\n",
       "      <td>0.000000e+00</td>\n",
       "      <td>0.141144</td>\n",
       "      <td>0.000000e+00</td>\n",
       "      <td>True</td>\n",
       "      <td>True</td>\n",
       "    </tr>\n",
       "    <tr>\n",
       "      <th>50</th>\n",
       "      <td>pct_bed1</td>\n",
       "      <td>0.175486</td>\n",
       "      <td>0.000000e+00</td>\n",
       "      <td>0.143442</td>\n",
       "      <td>0.000000e+00</td>\n",
       "      <td>True</td>\n",
       "      <td>True</td>\n",
       "    </tr>\n",
       "    <tr>\n",
       "      <th>35</th>\n",
       "      <td>pct_disabled_all</td>\n",
       "      <td>0.175671</td>\n",
       "      <td>0.000000e+00</td>\n",
       "      <td>0.140444</td>\n",
       "      <td>0.000000e+00</td>\n",
       "      <td>True</td>\n",
       "      <td>True</td>\n",
       "    </tr>\n",
       "    <tr>\n",
       "      <th>65</th>\n",
       "      <td>annl_expns_amnt</td>\n",
       "      <td>0.177968</td>\n",
       "      <td>0.000000e+00</td>\n",
       "      <td>0.144957</td>\n",
       "      <td>0.000000e+00</td>\n",
       "      <td>True</td>\n",
       "      <td>True</td>\n",
       "    </tr>\n",
       "    <tr>\n",
       "      <th>66</th>\n",
       "      <td>annl_expns_amnt_prev_yr</td>\n",
       "      <td>0.188987</td>\n",
       "      <td>0.000000e+00</td>\n",
       "      <td>0.154133</td>\n",
       "      <td>0.000000e+00</td>\n",
       "      <td>True</td>\n",
       "      <td>True</td>\n",
       "    </tr>\n",
       "    <tr>\n",
       "      <th>3</th>\n",
       "      <td>total_occupied</td>\n",
       "      <td>0.206822</td>\n",
       "      <td>0.000000e+00</td>\n",
       "      <td>0.176167</td>\n",
       "      <td>0.000000e+00</td>\n",
       "      <td>True</td>\n",
       "      <td>True</td>\n",
       "    </tr>\n",
       "    <tr>\n",
       "      <th>1</th>\n",
       "      <td>total_dwelling_units</td>\n",
       "      <td>0.213094</td>\n",
       "      <td>0.000000e+00</td>\n",
       "      <td>0.175804</td>\n",
       "      <td>0.000000e+00</td>\n",
       "      <td>True</td>\n",
       "      <td>True</td>\n",
       "    </tr>\n",
       "    <tr>\n",
       "      <th>5</th>\n",
       "      <td>total_units</td>\n",
       "      <td>0.213798</td>\n",
       "      <td>0.000000e+00</td>\n",
       "      <td>0.179362</td>\n",
       "      <td>0.000000e+00</td>\n",
       "      <td>True</td>\n",
       "      <td>True</td>\n",
       "    </tr>\n",
       "    <tr>\n",
       "      <th>2</th>\n",
       "      <td>acc_units</td>\n",
       "      <td>0.216610</td>\n",
       "      <td>0.000000e+00</td>\n",
       "      <td>0.178927</td>\n",
       "      <td>0.000000e+00</td>\n",
       "      <td>True</td>\n",
       "      <td>True</td>\n",
       "    </tr>\n",
       "    <tr>\n",
       "      <th>7</th>\n",
       "      <td>number_reported</td>\n",
       "      <td>0.220215</td>\n",
       "      <td>0.000000e+00</td>\n",
       "      <td>0.188260</td>\n",
       "      <td>0.000000e+00</td>\n",
       "      <td>True</td>\n",
       "      <td>True</td>\n",
       "    </tr>\n",
       "    <tr>\n",
       "      <th>69</th>\n",
       "      <td>building_fires_20_21</td>\n",
       "      <td>0.413604</td>\n",
       "      <td>0.000000e+00</td>\n",
       "      <td>1.000000</td>\n",
       "      <td>0.000000e+00</td>\n",
       "      <td>True</td>\n",
       "      <td>True</td>\n",
       "    </tr>\n",
       "    <tr>\n",
       "      <th>68</th>\n",
       "      <td>building_fires_11_19</td>\n",
       "      <td>1.000000</td>\n",
       "      <td>0.000000e+00</td>\n",
       "      <td>0.413604</td>\n",
       "      <td>0.000000e+00</td>\n",
       "      <td>True</td>\n",
       "      <td>True</td>\n",
       "    </tr>\n",
       "  </tbody>\n",
       "</table>\n",
       "</div>"
      ],
      "text/plain": [
       "                       columns      corr        p_value     corr2  \\\n",
       "64                    std_zip5 -0.029856   4.224570e-39 -0.017403   \n",
       "63                       micro -0.012225   8.536863e-08 -0.009588   \n",
       "62                       metro -0.012225   8.536863e-08 -0.009588   \n",
       "67             pha_total_units -0.005179   2.328744e-02 -0.003475   \n",
       "52                    pct_bed3  0.017241   4.256355e-14  0.015277   \n",
       "32       pct_female_head_child  0.021557   3.581862e-21  0.018319   \n",
       "51                    pct_bed2  0.021564   3.489301e-21  0.017245   \n",
       "30                  pct_1adult  0.021690   2.049272e-21  0.018542   \n",
       "53              pct_overhoused  0.022580   4.491682e-23  0.018823   \n",
       "57              chldrn_mbr_cnt  0.030425   1.535343e-40  0.024088   \n",
       "18                    pct_lt5k  0.033106   1.110776e-47  0.028114   \n",
       "49              ave_util_allow  0.033407   1.610308e-48  0.029471   \n",
       "48           pct_utility_allow  0.037117   1.759074e-59  0.036705   \n",
       "45                pct_hispanic  0.043844   2.787715e-82  0.027673   \n",
       "37                pct_age25_50  0.046545   1.675593e-92  0.040165   \n",
       "23              pct_wage_major  0.048095   1.219791e-98  0.039847   \n",
       "36               pct_lt24_head  0.053099  7.760352e-120  0.045454   \n",
       "24           pct_welfare_major  0.055984  5.151478e-133  0.042964   \n",
       "47          months_from_movein  0.064343  3.888969e-175  0.052969   \n",
       "29                 pct_2adults  0.068518  2.225440e-198  0.057989   \n",
       "22                   pct_ge20k  0.073755  1.301941e-229  0.059584   \n",
       "44                   pct_asian  0.074971  3.400513e-237  0.062180   \n",
       "19                pct_5k_lt10k  0.080505  2.688187e-273  0.077323   \n",
       "56                 tpct_ownsfd  0.081489  5.482911e-280  0.066866   \n",
       "54                   tminority  0.087609  1.976263e-323  0.061541   \n",
       "31             pct_female_head  0.088856   0.000000e+00  0.072072   \n",
       "55                    tpoverty  0.090293   0.000000e+00  0.072352   \n",
       "41                pct_minority  0.092194   0.000000e+00  0.069368   \n",
       "26                  pct_median  0.093264   0.000000e+00  0.077286   \n",
       "16                   hh_income  0.100255   0.000000e+00  0.080017   \n",
       "13              rent_per_month  0.101069   0.000000e+00  0.079161   \n",
       "43         pct_native_american  0.105761   0.000000e+00  0.087873   \n",
       "42                   pct_black  0.106373   0.000000e+00  0.085773   \n",
       "46              months_waiting  0.107380   0.000000e+00  0.061977   \n",
       "11             people_per_unit  0.107411   0.000000e+00  0.088106   \n",
       "61             median_inc_amnt  0.107956   0.000000e+00  0.086982   \n",
       "40               pct_age85plus  0.108167   0.000000e+00  0.085907   \n",
       "14          spending_per_month  0.109076   0.000000e+00  0.089192   \n",
       "21               pct_15k_lt20k  0.115851   0.000000e+00  0.093232   \n",
       "10                  pct_movein  0.117203   0.000000e+00  0.096602   \n",
       "9          months_since_report  0.118298   0.000000e+00  0.098746   \n",
       "15  spending_per_month_prev_yr  0.119910   0.000000e+00  0.096803   \n",
       "38                pct_age51_61  0.121542   0.000000e+00  0.099977   \n",
       "60             pct_lt80_median  0.123042   0.000000e+00  0.100780   \n",
       "8                 pct_reported  0.123653   0.000000e+00  0.101503   \n",
       "27             pct_lt50_median  0.127227   0.000000e+00  0.103872   \n",
       "4               regular_vacant  0.129116   0.000000e+00  0.090078   \n",
       "34           pct_disabled_ge62  0.130969   0.000000e+00  0.102134   \n",
       "28             pct_lt30_median  0.131446   0.000000e+00  0.106036   \n",
       "17               person_income  0.140965   0.000000e+00  0.112657   \n",
       "59       pct_disabled_lt62_all  0.145461   0.000000e+00  0.121977   \n",
       "12                people_total  0.151126   0.000000e+00  0.127697   \n",
       "39               pct_age62plus  0.154592   0.000000e+00  0.124236   \n",
       "25             pct_other_major  0.160295   0.000000e+00  0.129905   \n",
       "58                 eldly_prcnt  0.165093   0.000000e+00  0.132419   \n",
       "20               pct_10k_lt15k  0.170361   0.000000e+00  0.134189   \n",
       "33           pct_disabled_lt62  0.174869   0.000000e+00  0.141144   \n",
       "50                    pct_bed1  0.175486   0.000000e+00  0.143442   \n",
       "35            pct_disabled_all  0.175671   0.000000e+00  0.140444   \n",
       "65             annl_expns_amnt  0.177968   0.000000e+00  0.144957   \n",
       "66     annl_expns_amnt_prev_yr  0.188987   0.000000e+00  0.154133   \n",
       "3               total_occupied  0.206822   0.000000e+00  0.176167   \n",
       "1         total_dwelling_units  0.213094   0.000000e+00  0.175804   \n",
       "5                  total_units  0.213798   0.000000e+00  0.179362   \n",
       "2                    acc_units  0.216610   0.000000e+00  0.178927   \n",
       "7              number_reported  0.220215   0.000000e+00  0.188260   \n",
       "69        building_fires_20_21  0.413604   0.000000e+00  1.000000   \n",
       "68        building_fires_11_19  1.000000   0.000000e+00  0.413604   \n",
       "\n",
       "         p_value2  significant1  significant2  \n",
       "64   2.464008e-14          True          True  \n",
       "63   2.669673e-05          True          True  \n",
       "62   2.669673e-05          True          True  \n",
       "67   1.279051e-01          True         False  \n",
       "52   2.197647e-11          True          True  \n",
       "32   1.012084e-15          True          True  \n",
       "51   4.195201e-14          True          True  \n",
       "30   4.551489e-16          True          True  \n",
       "53   1.636836e-16          True          True  \n",
       "57   4.922862e-26          True          True  \n",
       "18   7.290145e-35          True          True  \n",
       "49   3.829443e-38          True          True  \n",
       "48   3.319698e-58          True          True  \n",
       "45   7.835575e-34          True          True  \n",
       "37   2.414472e-69          True          True  \n",
       "23   2.802259e-68          True          True  \n",
       "36   2.656540e-88          True          True  \n",
       "24   4.373097e-79          True          True  \n",
       "47  2.934813e-119          True          True  \n",
       "29  1.392631e-142          True          True  \n",
       "22  1.955071e-150          True          True  \n",
       "44  1.136338e-163          True          True  \n",
       "19  3.200038e-252          True          True  \n",
       "56  5.262573e-189          True          True  \n",
       "54  2.329701e-160          True          True  \n",
       "31  2.532030e-219          True          True  \n",
       "55  5.094622e-221          True          True  \n",
       "41  2.745959e-203          True          True  \n",
       "26  5.535127e-252          True          True  \n",
       "16  5.219344e-270          True          True  \n",
       "13  2.733902e-264          True          True  \n",
       "43   0.000000e+00          True          True  \n",
       "42  4.501608e-310          True          True  \n",
       "46  1.295872e-162          True          True  \n",
       "11   0.000000e+00          True          True  \n",
       "61  7.488553e-319          True          True  \n",
       "40  4.813746e-311          True          True  \n",
       "14   0.000000e+00          True          True  \n",
       "21   0.000000e+00          True          True  \n",
       "10   0.000000e+00          True          True  \n",
       "9    0.000000e+00          True          True  \n",
       "15   0.000000e+00          True          True  \n",
       "38   0.000000e+00          True          True  \n",
       "60   0.000000e+00          True          True  \n",
       "8    0.000000e+00          True          True  \n",
       "27   0.000000e+00          True          True  \n",
       "4    0.000000e+00          True          True  \n",
       "34   0.000000e+00          True          True  \n",
       "28   0.000000e+00          True          True  \n",
       "17   0.000000e+00          True          True  \n",
       "59   0.000000e+00          True          True  \n",
       "12   0.000000e+00          True          True  \n",
       "39   0.000000e+00          True          True  \n",
       "25   0.000000e+00          True          True  \n",
       "58   0.000000e+00          True          True  \n",
       "20   0.000000e+00          True          True  \n",
       "33   0.000000e+00          True          True  \n",
       "50   0.000000e+00          True          True  \n",
       "35   0.000000e+00          True          True  \n",
       "65   0.000000e+00          True          True  \n",
       "66   0.000000e+00          True          True  \n",
       "3    0.000000e+00          True          True  \n",
       "1    0.000000e+00          True          True  \n",
       "5    0.000000e+00          True          True  \n",
       "2    0.000000e+00          True          True  \n",
       "7    0.000000e+00          True          True  \n",
       "69   0.000000e+00          True          True  \n",
       "68   0.000000e+00          True          True  "
      ]
     },
     "execution_count": 4,
     "metadata": {},
     "output_type": "execute_result"
    }
   ],
   "source": [
    "pd.set_option('display.max_row', 200)\n",
    "corrs_df[(corrs_df.significant1)|(corrs_df.significant2)].sort_values('corr')"
   ]
  },
  {
   "cell_type": "markdown",
   "metadata": {},
   "source": [
    "There are some public housing buildings that share an address, even though they are separate structures. For this analysis, in that case, I will keep only the first record. However, future work should be done to see if improved matching is possible."
   ]
  },
  {
   "cell_type": "code",
   "execution_count": 5,
   "metadata": {},
   "outputs": [],
   "source": [
    "df['total_fires'] = df['building_fires_11_19'] + df['building_fires_20_21']"
   ]
  },
  {
   "cell_type": "markdown",
   "metadata": {},
   "source": [
    "## Do some buildings stand out as being the worst?"
   ]
  },
  {
   "cell_type": "code",
   "execution_count": 6,
   "metadata": {},
   "outputs": [],
   "source": [
    "df['fires_adj'] = df.total_fires / df.total_units"
   ]
  },
  {
   "cell_type": "markdown",
   "metadata": {},
   "source": [
    "Most buildings don't have any fires from 2011-2021."
   ]
  },
  {
   "cell_type": "code",
   "execution_count": 7,
   "metadata": {},
   "outputs": [
    {
     "data": {
      "text/plain": [
       "0.984907626964067"
      ]
     },
     "execution_count": 7,
     "metadata": {},
     "output_type": "execute_result"
    }
   ],
   "source": [
    "len(df[df.total_fires == 0]) / len(df)"
   ]
  },
  {
   "cell_type": "markdown",
   "metadata": {},
   "source": [
    "But those that do usually have more than one fire in that time period."
   ]
  },
  {
   "cell_type": "code",
   "execution_count": 8,
   "metadata": {},
   "outputs": [
    {
     "data": {
      "text/plain": [
       "2.489986187845304"
      ]
     },
     "execution_count": 8,
     "metadata": {},
     "output_type": "execute_result"
    }
   ],
   "source": [
    "df[df['total_fires'] > 0]['total_fires'].mean()"
   ]
  },
  {
   "cell_type": "markdown",
   "metadata": {},
   "source": [
    "We can also look at fires per unit"
   ]
  },
  {
   "cell_type": "code",
   "execution_count": 9,
   "metadata": {},
   "outputs": [
    {
     "data": {
      "text/plain": [
       "0.4428342751237843"
      ]
     },
     "execution_count": 9,
     "metadata": {},
     "output_type": "execute_result"
    }
   ],
   "source": [
    "df[df['fires_adj'] > 0]['fires_adj'].mean()"
   ]
  },
  {
   "cell_type": "markdown",
   "metadata": {},
   "source": [
    "88 buildings in our dataset have had, on average, at least one fire a year for the last 10 years."
   ]
  },
  {
   "cell_type": "code",
   "execution_count": 10,
   "metadata": {},
   "outputs": [
    {
     "data": {
      "text/plain": [
       "88"
      ]
     },
     "execution_count": 10,
     "metadata": {},
     "output_type": "execute_result"
    }
   ],
   "source": [
    "len(df[df.total_fires > 10])"
   ]
  },
  {
   "cell_type": "markdown",
   "metadata": {},
   "source": [
    "These buildings have had about 1.6 fires per unit. "
   ]
  },
  {
   "cell_type": "code",
   "execution_count": 11,
   "metadata": {},
   "outputs": [
    {
     "data": {
      "text/plain": [
       "1.603829802132413"
      ]
     },
     "execution_count": 11,
     "metadata": {},
     "output_type": "execute_result"
    }
   ],
   "source": [
    "df[df.total_fires > 10].fires_adj.mean()"
   ]
  },
  {
   "cell_type": "markdown",
   "metadata": {},
   "source": [
    "These buildings are mostly elevator-structure buildings."
   ]
  },
  {
   "cell_type": "code",
   "execution_count": 12,
   "metadata": {},
   "outputs": [
    {
     "data": {
      "text/plain": [
       "building_type_code\n",
       "ES    76\n",
       "RW     3\n",
       "SF     1\n",
       "WU     8\n",
       "dtype: int64"
      ]
     },
     "execution_count": 12,
     "metadata": {},
     "output_type": "execute_result"
    }
   ],
   "source": [
    "df[df.total_fires > 10].groupby('building_type_code').size()"
   ]
  },
  {
   "cell_type": "code",
   "execution_count": 13,
   "metadata": {},
   "outputs": [
    {
     "name": "stdout",
     "output_type": "stream",
     "text": [
      "count    2896.000000\n",
      "mean       35.975138\n",
      "std        56.087676\n",
      "min         1.000000\n",
      "25%         2.000000\n",
      "50%         6.000000\n",
      "75%        54.000000\n",
      "max       464.000000\n",
      "Name: total_units, dtype: float64\n",
      "\n",
      "count    188989.000000\n",
      "mean          4.618486\n",
      "std          13.256085\n",
      "min           1.000000\n",
      "25%           1.000000\n",
      "50%           2.000000\n",
      "75%           4.000000\n",
      "max         477.000000\n",
      "Name: total_units, dtype: float64\n"
     ]
    }
   ],
   "source": [
    "print(df[df.total_fires > 0].total_units.describe())\n",
    "print()\n",
    "print(df[df.total_fires == 0].total_units.describe())"
   ]
  },
  {
   "cell_type": "markdown",
   "metadata": {},
   "source": [
    "[Link with info](https://www.hud.gov/sites/documents/DOC_11633.PDF) on building code abbreviations.\n",
    "\n",
    "* SF -> Single Family / Detached\n",
    "* RW -> Row/Townhouse Dwelling\n",
    "* WU -> Walk-UP/MultiFamily Apartment\n",
    "* ES -> Elevator Structure \n",
    "* SD -> Semi-Detatched"
   ]
  },
  {
   "cell_type": "code",
   "execution_count": 14,
   "metadata": {},
   "outputs": [],
   "source": [
    "df.building_type_code = df.building_type_code.str.upper()"
   ]
  },
  {
   "cell_type": "code",
   "execution_count": 15,
   "metadata": {},
   "outputs": [
    {
     "data": {
      "text/plain": [
       "building_type_code\n",
       "SD     0.380374\n",
       "RW     0.302958\n",
       "SF     0.203773\n",
       "WU     0.091492\n",
       "ES     0.021357\n",
       "NDS    0.000047\n",
       "dtype: float64"
      ]
     },
     "execution_count": 15,
     "metadata": {},
     "output_type": "execute_result"
    }
   ],
   "source": [
    "(df.groupby('building_type_code').size() / len(df)).sort_values(ascending=False)"
   ]
  },
  {
   "cell_type": "code",
   "execution_count": 16,
   "metadata": {},
   "outputs": [
    {
     "data": {
      "text/plain": [
       "building_type_code\n",
       "ES     1.097365\n",
       "WU     0.051606\n",
       "SF     0.012992\n",
       "RW     0.012850\n",
       "SD     0.007577\n",
       "NDS    0.000000\n",
       "Name: total_fires, dtype: float64"
      ]
     },
     "execution_count": 16,
     "metadata": {},
     "output_type": "execute_result"
    }
   ],
   "source": [
    "df.groupby('building_type_code').total_fires.mean().sort_values(ascending=False)"
   ]
  },
  {
   "cell_type": "code",
   "execution_count": 17,
   "metadata": {},
   "outputs": [
    {
     "data": {
      "text/plain": [
       "building_type_code\n",
       "SF     0.012787\n",
       "ES     0.012128\n",
       "WU     0.011893\n",
       "RW     0.004099\n",
       "SD     0.003914\n",
       "NDS    0.000000\n",
       "Name: fires_adj, dtype: float64"
      ]
     },
     "execution_count": 17,
     "metadata": {},
     "output_type": "execute_result"
    }
   ],
   "source": [
    "df.groupby('building_type_code').fires_adj.mean().sort_values(ascending=False)"
   ]
  },
  {
   "cell_type": "markdown",
   "metadata": {},
   "source": [
    "S is house/street and H is highrise"
   ]
  },
  {
   "cell_type": "code",
   "execution_count": 18,
   "metadata": {},
   "outputs": [
    {
     "data": {
      "text/plain": [
       "addr_type\n",
       "S    137689\n",
       "H     41962\n",
       "P       289\n",
       "R        46\n",
       "G         3\n",
       "F         2\n",
       "dtype: int64"
      ]
     },
     "execution_count": 18,
     "metadata": {},
     "output_type": "execute_result"
    }
   ],
   "source": [
    "df.groupby('addr_type').size().sort_values(ascending=False)"
   ]
  },
  {
   "cell_type": "code",
   "execution_count": 19,
   "metadata": {},
   "outputs": [
    {
     "data": {
      "text/plain": [
       "addr_type\n",
       "F    2.000000\n",
       "H    0.130999\n",
       "S    0.012419\n",
       "G    0.000000\n",
       "P    0.000000\n",
       "R    0.000000\n",
       "Name: total_fires, dtype: float64"
      ]
     },
     "execution_count": 19,
     "metadata": {},
     "output_type": "execute_result"
    }
   ],
   "source": [
    "df.groupby('addr_type').total_fires.mean().sort_values(ascending=False)"
   ]
  },
  {
   "cell_type": "code",
   "execution_count": 20,
   "metadata": {},
   "outputs": [
    {
     "data": {
      "text/plain": [
       "addr_type\n",
       "F    0.023529\n",
       "S    0.007830\n",
       "H    0.004868\n",
       "G    0.000000\n",
       "P    0.000000\n",
       "R    0.000000\n",
       "Name: fires_adj, dtype: float64"
      ]
     },
     "execution_count": 20,
     "metadata": {},
     "output_type": "execute_result"
    }
   ],
   "source": [
    "df.groupby('addr_type').fires_adj.mean().sort_values(ascending=False)"
   ]
  },
  {
   "cell_type": "markdown",
   "metadata": {},
   "source": [
    "##### !!!!!!!!!! Even though a building being large is a good predictor that it will have at least one fire, most large buildings have zero matched fires! So identifying high risk properties within ES structures might be helpful. However, we might need to grade the classifier differntly. For example, it might be great at identifying all ES properties as high risk, but then doing nothing else to diferentiate them."
   ]
  },
  {
   "cell_type": "code",
   "execution_count": 21,
   "metadata": {},
   "outputs": [
    {
     "data": {
      "text/plain": [
       "count    4098.000000\n",
       "mean        1.097365\n",
       "std         5.008271\n",
       "min         0.000000\n",
       "25%         0.000000\n",
       "50%         0.000000\n",
       "75%         0.000000\n",
       "max       143.000000\n",
       "Name: total_fires, dtype: float64"
      ]
     },
     "execution_count": 21,
     "metadata": {},
     "output_type": "execute_result"
    }
   ],
   "source": [
    "df[df.building_type_code == 'ES'].total_fires.describe()"
   ]
  },
  {
   "cell_type": "code",
   "execution_count": 22,
   "metadata": {},
   "outputs": [
    {
     "data": {
      "text/plain": [
       "count    41962.000000\n",
       "mean         0.130999\n",
       "std          1.644532\n",
       "min          0.000000\n",
       "25%          0.000000\n",
       "50%          0.000000\n",
       "75%          0.000000\n",
       "max        143.000000\n",
       "Name: total_fires, dtype: float64"
      ]
     },
     "execution_count": 22,
     "metadata": {},
     "output_type": "execute_result"
    }
   ],
   "source": [
    "df[df.addr_type == 'H'].total_fires.describe()"
   ]
  },
  {
   "cell_type": "markdown",
   "metadata": {},
   "source": [
    "## Do buildings with fires differ in terms of year-built?"
   ]
  },
  {
   "cell_type": "code",
   "execution_count": 23,
   "metadata": {},
   "outputs": [],
   "source": [
    "df['construction_year'] = pd.to_datetime(df['construct_date']).dt.year\n",
    "df['construction_month'] = pd.to_datetime(df['construct_date']).dt.month_name()\n",
    "df.loc[df['construction_year'] > 2023, 'construction_year'] = np.nan"
   ]
  },
  {
   "cell_type": "code",
   "execution_count": 24,
   "metadata": {},
   "outputs": [
    {
     "data": {
      "text/plain": [
       "count    149228.000000\n",
       "mean       1972.333912\n",
       "std          17.518137\n",
       "min        1791.000000\n",
       "25%        1962.000000\n",
       "50%        1971.000000\n",
       "75%        1982.000000\n",
       "max        2022.000000\n",
       "Name: construction_year, dtype: float64"
      ]
     },
     "execution_count": 24,
     "metadata": {},
     "output_type": "execute_result"
    }
   ],
   "source": [
    "df[df.total_fires == 0].construction_year.describe()"
   ]
  },
  {
   "cell_type": "code",
   "execution_count": 25,
   "metadata": {},
   "outputs": [
    {
     "data": {
      "text/plain": [
       "count    2312.000000\n",
       "mean     1974.385381\n",
       "std        18.510124\n",
       "min      1900.000000\n",
       "25%      1965.000000\n",
       "50%      1972.000000\n",
       "75%      1983.000000\n",
       "max      2022.000000\n",
       "Name: construction_year, dtype: float64"
      ]
     },
     "execution_count": 25,
     "metadata": {},
     "output_type": "execute_result"
    }
   ],
   "source": [
    "df[df.total_fires > 0].construction_year.describe()"
   ]
  },
  {
   "cell_type": "code",
   "execution_count": 26,
   "metadata": {},
   "outputs": [
    {
     "data": {
      "text/plain": [
       "0.03824301802939246"
      ]
     },
     "execution_count": 26,
     "metadata": {},
     "output_type": "execute_result"
    }
   ],
   "source": [
    "df[df.construction_year >= df.construction_year.median()].total_fires.mean()"
   ]
  },
  {
   "cell_type": "code",
   "execution_count": 27,
   "metadata": {},
   "outputs": [
    {
     "data": {
      "text/plain": [
       "0.035293629727936295"
      ]
     },
     "execution_count": 27,
     "metadata": {},
     "output_type": "execute_result"
    }
   ],
   "source": [
    "df[df.construction_year < df.construction_year.median()].total_fires.mean()"
   ]
  },
  {
   "cell_type": "markdown",
   "metadata": {},
   "source": [
    "## Base rates of different states"
   ]
  },
  {
   "cell_type": "markdown",
   "metadata": {},
   "source": [
    "Fires per public housing building."
   ]
  },
  {
   "cell_type": "code",
   "execution_count": 28,
   "metadata": {},
   "outputs": [
    {
     "data": {
      "text/plain": [
       "std_st\n",
       "MA    0.372135\n",
       "NJ    0.275563\n",
       "RI    0.168632\n",
       "DC    0.150888\n",
       "PA    0.106865\n",
       "CT    0.104405\n",
       "WA    0.082998\n",
       "NH    0.079545\n",
       "ME    0.073214\n",
       "NE    0.068817\n",
       "MI    0.068755\n",
       "SD    0.062500\n",
       "IL    0.057474\n",
       "NY    0.052549\n",
       "ID    0.049645\n",
       "KY    0.048760\n",
       "DE    0.043876\n",
       "MN    0.040796\n",
       "MD    0.039080\n",
       "UT    0.038062\n",
       "NV    0.036145\n",
       "OH    0.035841\n",
       "AK    0.031429\n",
       "SC    0.029841\n",
       "VA    0.029632\n",
       "WI    0.025692\n",
       "CO    0.023969\n",
       "ND    0.021858\n",
       "WV    0.019337\n",
       "WY    0.018939\n",
       "TN    0.018546\n",
       "GA    0.017811\n",
       "KS    0.017787\n",
       "IN    0.016843\n",
       "NC    0.014332\n",
       "IA    0.013564\n",
       "MO    0.013430\n",
       "HI    0.013021\n",
       "OK    0.010616\n",
       "AZ    0.010511\n",
       "CA    0.010348\n",
       "FL    0.009263\n",
       "MS    0.008786\n",
       "MT    0.007653\n",
       "LA    0.006658\n",
       "OR    0.006323\n",
       "AL    0.004971\n",
       "TX    0.004285\n",
       "AR    0.003327\n",
       "NM    0.002303\n",
       "PR    0.000000\n",
       "GU    0.000000\n",
       "VI    0.000000\n",
       "VT    0.000000\n",
       "dtype: float64"
      ]
     },
     "execution_count": 28,
     "metadata": {},
     "output_type": "execute_result"
    }
   ],
   "source": [
    "(\n",
    "df.groupby('std_st').total_fires.sum() / df.groupby('std_st').size()\n",
    " ).sort_values(ascending=False)"
   ]
  },
  {
   "cell_type": "code",
   "execution_count": 29,
   "metadata": {},
   "outputs": [
    {
     "data": {
      "text/plain": [
       "std_st\n",
       "MA    0.049298\n",
       "ID    0.021630\n",
       "PA    0.013696\n",
       "CT    0.012992\n",
       "SC    0.012095\n",
       "MI    0.011936\n",
       "NE    0.011722\n",
       "DE    0.011613\n",
       "SD    0.011530\n",
       "OH    0.011068\n",
       "WI    0.010937\n",
       "MD    0.010826\n",
       "MN    0.010580\n",
       "NV    0.010237\n",
       "RI    0.010141\n",
       "DC    0.009278\n",
       "NJ    0.009183\n",
       "UT    0.009072\n",
       "WA    0.007998\n",
       "IL    0.007967\n",
       "NH    0.007879\n",
       "GA    0.006840\n",
       "TN    0.006602\n",
       "NC    0.006336\n",
       "KY    0.006248\n",
       "KS    0.006096\n",
       "MO    0.005790\n",
       "CO    0.005609\n",
       "ND    0.005539\n",
       "ME    0.005255\n",
       "AZ    0.005147\n",
       "IN    0.005081\n",
       "MS    0.004824\n",
       "VA    0.004716\n",
       "AK    0.004348\n",
       "NY    0.004187\n",
       "FL    0.003938\n",
       "IA    0.003827\n",
       "LA    0.003559\n",
       "WV    0.003403\n",
       "OR    0.003368\n",
       "OK    0.003125\n",
       "MT    0.002551\n",
       "AL    0.002355\n",
       "NM    0.002303\n",
       "CA    0.002183\n",
       "WY    0.002112\n",
       "AR    0.001551\n",
       "TX    0.001392\n",
       "HI    0.001227\n",
       "PR    0.000000\n",
       "VI    0.000000\n",
       "VT    0.000000\n",
       "GU    0.000000\n",
       "Name: fires_adj, dtype: float64"
      ]
     },
     "execution_count": 29,
     "metadata": {},
     "output_type": "execute_result"
    }
   ],
   "source": [
    "(\n",
    "df.groupby('std_st').fires_adj.mean()\n",
    " ).sort_values(ascending=False)"
   ]
  },
  {
   "cell_type": "markdown",
   "metadata": {},
   "source": [
    "## Check the damages from the identified fires"
   ]
  },
  {
   "cell_type": "code",
   "execution_count": 30,
   "metadata": {},
   "outputs": [],
   "source": [
    "tuples = df[\n",
    "    (df.building_fires_11_19 > 0) |\n",
    "    (df.building_fires_20_21 > 0)\n",
    "]\n",
    "tuples = tuples[['std_addr', 'std_city', 'std_st', 'std_zip5']].copy()"
   ]
  },
  {
   "cell_type": "code",
   "execution_count": null,
   "metadata": {},
   "outputs": [],
   "source": [
    "# 21 minutes to run\n",
    "tuples['address'] = tuples[['std_addr', 'std_city', 'std_st', 'streettype', 'streetsuf', 'apt_no']] \\\n",
    "    .apply(lambda x: ' '.join(x.dropna().astype(str)), axis=1)"
   ]
  },
  {
   "cell_type": "code",
   "execution_count": 31,
   "metadata": {},
   "outputs": [
    {
     "name": "stdout",
     "output_type": "stream",
     "text": [
      "0\n"
     ]
    }
   ],
   "source": [
    "conn = sqlite3.Connection('./data/nfirs/fire_data.db')\n",
    "query = \"\"\"\n",
    "SELECT *\n",
    "FROM incident_address ia\n",
    "WHERE (ia.NUM_MILE || ' ' || COALESCE(ia.STREET_PRE, '') || ' ' || ia.STREETNAME || ' ' || COALESCE(ia.STREETTYPE, '') || ' ' || COALESCE(ia.STREETSUF, '') || ' ' || COALESCE(ia.APT_NO, '') || ' ' || ia.CITY || ' ' || ia.STATE || ' ' || ia.ZIP5) = ?\n",
    "\"\"\"\n",
    "\n",
    "\n",
    "matches = []\n",
    "for i, t in enumerate(tuples):\n",
    "    if i % 100 == 0:\n",
    "        print(i)\n",
    "    result = conn.execute(query, (t,)).fetchall()\n",
    "    if result:\n",
    "        matches.extend(result)\n",
    "\n",
    "conn.close()"
   ]
  },
  {
   "cell_type": "code",
   "execution_count": 32,
   "metadata": {},
   "outputs": [
    {
     "data": {
      "text/plain": [
       "[]"
      ]
     },
     "execution_count": 32,
     "metadata": {},
     "output_type": "execute_result"
    }
   ],
   "source": [
    "matches"
   ]
  },
  {
   "cell_type": "markdown",
   "metadata": {},
   "source": [
    "## Manual inspection sanity check"
   ]
  },
  {
   "cell_type": "markdown",
   "metadata": {},
   "source": [
    "For the worst properties, and UT, and some random properties, manually check the NFIRS database and the public housing dataset."
   ]
  },
  {
   "cell_type": "markdown",
   "metadata": {},
   "source": [
    "## Look at all highrise buildings where a fire was identified, and then pull the full info from FEMA"
   ]
  },
  {
   "cell_type": "markdown",
   "metadata": {},
   "source": [
    "## Summarize death, injury, and property loss, and how buildings with lots of that differ"
   ]
  }
 ],
 "metadata": {
  "kernelspec": {
   "display_name": "base",
   "language": "python",
   "name": "python3"
  },
  "language_info": {
   "codemirror_mode": {
    "name": "ipython",
    "version": 3
   },
   "file_extension": ".py",
   "mimetype": "text/x-python",
   "name": "python",
   "nbconvert_exporter": "python",
   "pygments_lexer": "ipython3",
   "version": "3.10.9"
  },
  "orig_nbformat": 4
 },
 "nbformat": 4,
 "nbformat_minor": 2
}
