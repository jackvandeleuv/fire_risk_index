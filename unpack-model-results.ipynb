{
 "cells": [
  {
   "cell_type": "code",
   "execution_count": 4,
   "metadata": {},
   "outputs": [],
   "source": [
    "import pandas as pd\n",
    "import sqlite3\n",
    "import matplotlib.pyplot as plt\n",
    "import numpy as np\n",
    "import re\n",
    "import seaborn as sns\n",
    "import time\n",
    "import requests\n",
    "from sklearn.preprocessing import LabelEncoder\n",
    "\n",
    "pd.set_option('display.max_columns', None)"
   ]
  },
  {
   "cell_type": "code",
   "execution_count": 5,
   "metadata": {},
   "outputs": [],
   "source": [
    "df = pd.read_csv('./data_with_probs_usa.csv')"
   ]
  },
  {
   "cell_type": "code",
   "execution_count": 28,
   "metadata": {},
   "outputs": [],
   "source": [
    "high = df.sort_values('fire_probability', ascending=False).head(len(df) // 3)\n",
    "low = df.sort_values('fire_probability', ascending=True).head((2*len(df)) // 3)"
   ]
  },
  {
   "cell_type": "code",
   "execution_count": 30,
   "metadata": {},
   "outputs": [
    {
     "data": {
      "text/plain": [
       "count    63961.000000\n",
       "mean         4.997029\n",
       "std         17.352453\n",
       "min          1.000000\n",
       "25%          2.000000\n",
       "50%          2.000000\n",
       "75%          2.000000\n",
       "max        407.000000\n",
       "Name: total_units, dtype: float64"
      ]
     },
     "execution_count": 30,
     "metadata": {},
     "output_type": "execute_result"
    }
   ],
   "source": [
    "high.total_units.describe()"
   ]
  },
  {
   "cell_type": "code",
   "execution_count": 32,
   "metadata": {},
   "outputs": [
    {
     "data": {
      "text/plain": [
       "count    127923.000000\n",
       "mean          5.139115\n",
       "std          14.218548\n",
       "min           1.000000\n",
       "25%           1.000000\n",
       "50%           2.000000\n",
       "75%           4.000000\n",
       "max         477.000000\n",
       "Name: total_units, dtype: float64"
      ]
     },
     "execution_count": 32,
     "metadata": {},
     "output_type": "execute_result"
    }
   ],
   "source": [
    "low.total_units.describe()"
   ]
  },
  {
   "cell_type": "code",
   "execution_count": 33,
   "metadata": {},
   "outputs": [
    {
     "data": {
      "text/plain": [
       "count    63961.000000\n",
       "mean        32.981942\n",
       "std          6.087191\n",
       "min          0.000000\n",
       "25%         32.315128\n",
       "50%         32.315128\n",
       "75%         32.315128\n",
       "max        100.000000\n",
       "Name: eldly_prcnt, dtype: float64"
      ]
     },
     "execution_count": 33,
     "metadata": {},
     "output_type": "execute_result"
    }
   ],
   "source": [
    "high.eldly_prcnt.describe()"
   ]
  },
  {
   "cell_type": "code",
   "execution_count": 34,
   "metadata": {},
   "outputs": [
    {
     "data": {
      "text/plain": [
       "count    127923.000000\n",
       "mean         31.981724\n",
       "std           6.374718\n",
       "min           0.000000\n",
       "25%          32.315128\n",
       "50%          32.315128\n",
       "75%          32.315128\n",
       "max         100.000000\n",
       "Name: eldly_prcnt, dtype: float64"
      ]
     },
     "execution_count": 34,
     "metadata": {},
     "output_type": "execute_result"
    }
   ],
   "source": [
    "low.eldly_prcnt.describe()"
   ]
  },
  {
   "cell_type": "code",
   "execution_count": 26,
   "metadata": {},
   "outputs": [
    {
     "data": {
      "text/plain": [
       "building_type_code_es     0.000016\n",
       "building_type_code_rw     0.000969\n",
       "building_type_code_sd     0.000000\n",
       "building_type_code_sf     0.000000\n",
       "building_type_code_ES     0.027079\n",
       "building_type_code_NDS    0.000031\n",
       "building_type_code_RW     0.198387\n",
       "building_type_code_SD     0.671878\n",
       "building_type_code_SF     0.055800\n",
       "building_type_code_WU     0.045840\n",
       "dtype: float64"
      ]
     },
     "execution_count": 26,
     "metadata": {},
     "output_type": "execute_result"
    }
   ],
   "source": [
    "high[[\n",
    "    'building_type_code_es',\t'building_type_code_rw'\t,'building_type_code_sd'\t,\n",
    "    'building_type_code_sf', 'building_type_code_ES',\t'building_type_code_NDS',\t\n",
    "    'building_type_code_RW'\t,'building_type_code_SD',\t'building_type_code_SF',\t'building_type_code_WU']].sum() / len(high)"
   ]
  },
  {
   "cell_type": "code",
   "execution_count": 29,
   "metadata": {},
   "outputs": [
    {
     "data": {
      "text/plain": [
       "building_type_code_es     0.000000\n",
       "building_type_code_rw     0.000055\n",
       "building_type_code_sd     0.000008\n",
       "building_type_code_sf     0.000031\n",
       "building_type_code_ES     0.018488\n",
       "building_type_code_NDS    0.000055\n",
       "building_type_code_RW     0.354706\n",
       "building_type_code_SD     0.234618\n",
       "building_type_code_SF     0.277722\n",
       "building_type_code_WU     0.114319\n",
       "dtype: float64"
      ]
     },
     "execution_count": 29,
     "metadata": {},
     "output_type": "execute_result"
    }
   ],
   "source": [
    "low[[\n",
    "    'building_type_code_es',\t'building_type_code_rw'\t,'building_type_code_sd'\t,\n",
    "    'building_type_code_sf', 'building_type_code_ES',\t'building_type_code_NDS',\t\n",
    "    'building_type_code_RW'\t,'building_type_code_SD',\t'building_type_code_SF',\t'building_type_code_WU']].sum() / len(low)"
   ]
  }
 ],
 "metadata": {
  "kernelspec": {
   "display_name": "base",
   "language": "python",
   "name": "python3"
  },
  "language_info": {
   "codemirror_mode": {
    "name": "ipython",
    "version": 3
   },
   "file_extension": ".py",
   "mimetype": "text/x-python",
   "name": "python",
   "nbconvert_exporter": "python",
   "pygments_lexer": "ipython3",
   "version": "3.10.9"
  },
  "orig_nbformat": 4
 },
 "nbformat": 4,
 "nbformat_minor": 2
}
