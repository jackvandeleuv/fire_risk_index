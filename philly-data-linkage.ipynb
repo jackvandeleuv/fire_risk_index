{
 "cells": [
  {
   "cell_type": "code",
   "execution_count": 20,
   "metadata": {},
   "outputs": [],
   "source": [
    "import pandas as pd\n",
    "import sqlite3\n",
    "import matplotlib.pyplot as plt\n",
    "import numpy as np\n",
    "import re\n",
    "import seaborn as sns\n",
    "import time\n",
    "import requests\n",
    "from sklearn.preprocessing import LabelEncoder\n",
    "\n",
    "pd.set_option('display.max_columns', None)"
   ]
  },
  {
   "cell_type": "markdown",
   "metadata": {},
   "source": [
    "Start with Philadelphia, public housing, and all fire incidents 2021."
   ]
  },
  {
   "cell_type": "code",
   "execution_count": 21,
   "metadata": {},
   "outputs": [],
   "source": [
    "conn = sqlite3.Connection('./pa_fire_data.db')\n",
    "df = pd.read_sql(\"\"\"\n",
    "    select *,\n",
    "        cast(substr(ia.INC_DATE, length(ia.INC_DATE) - 3, 4) AS integer) as inc_year\n",
    "    from basic_incident bi\n",
    "        join incident_address ia\n",
    "        using (INCIDENT_KEY)\n",
    "    where cast(substr(bi.INC_DATE, length(bi.INC_DATE) - 3, 4) AS integer) > 2014\n",
    "        and cast(substr(ia.INC_DATE, length(ia.INC_DATE) - 3, 4) AS integer) > 2014\n",
    "        and bi.inc_type <= 200\n",
    "\"\"\", conn)"
   ]
  },
  {
   "cell_type": "code",
   "execution_count": 22,
   "metadata": {},
   "outputs": [],
   "source": [
    "df.columns = [x.lower() for x in df.columns]"
   ]
  },
  {
   "cell_type": "code",
   "execution_count": 23,
   "metadata": {},
   "outputs": [],
   "source": [
    "df['address'] = df.replace('None', np.nan, inplace=True)\n",
    "df['address'] = df[['num_mile', 'street_pre', 'streetname', 'streettype', 'streetsuf', 'apt_no']] \\\n",
    "    .apply(lambda x: ' '.join(x.dropna().astype(str)), axis=1)"
   ]
  },
  {
   "cell_type": "code",
   "execution_count": 24,
   "metadata": {},
   "outputs": [],
   "source": [
    "df.address = df.address.str.upper()"
   ]
  },
  {
   "cell_type": "code",
   "execution_count": 25,
   "metadata": {},
   "outputs": [
    {
     "name": "stderr",
     "output_type": "stream",
     "text": [
      "C:\\Users\\jackv\\AppData\\Local\\Temp\\ipykernel_22004\\3050705446.py:1: DtypeWarning: Columns (104) have mixed types. Specify dtype option on import or set low_memory=False.\n",
      "  public = pd.read_csv('./Public_Housing_Buildings.csv')\n"
     ]
    }
   ],
   "source": [
    "public = pd.read_csv('./Public_Housing_Buildings.csv')\n",
    "public.columns = [x.lower() for x in public.columns]"
   ]
  },
  {
   "cell_type": "code",
   "execution_count": 26,
   "metadata": {},
   "outputs": [],
   "source": [
    "public = public[public.std_st == 'PA']"
   ]
  },
  {
   "cell_type": "code",
   "execution_count": 27,
   "metadata": {},
   "outputs": [],
   "source": [
    "public['std_addr'] = public.std_addr.str.upper()\n",
    "public['std_st'] = public.std_st.str.upper()\n",
    "public['std_city'] = public.std_city.str.upper()"
   ]
  },
  {
   "cell_type": "code",
   "execution_count": 28,
   "metadata": {},
   "outputs": [
    {
     "name": "stderr",
     "output_type": "stream",
     "text": [
      "C:\\Users\\jackv\\AppData\\Local\\Temp\\ipykernel_22004\\2222523816.py:14: FutureWarning: In a future version, the Index constructor will not infer numeric dtypes when passed object-dtype sequences (matching Series behavior)\n",
      "  fire_counts = fire_specific.merge(all_fires, on=['address', 'city', 'zip5'], how='outer')\n"
     ]
    }
   ],
   "source": [
    "# For the 2015-2019 data\n",
    "fire_specific = df[(df['inc_type'].isin([111, 113])) & (df.inc_year.astype(int) < 2020)].groupby(['address', 'city', 'zip5', 'inc_type']).size().unstack().reset_index()\n",
    "fire_specific.columns = ['address', 'city', 'zip5', 'house_fires', 'cooking_fires']\n",
    "all_fires = df.groupby(['address', 'city', 'zip5']).size().reset_index(name='all_fires')\n",
    "fire_counts = fire_specific.merge(all_fires, on=['address', 'city', 'zip5'], how='outer')\n",
    "fire_counts = fire_counts.fillna(0) \n",
    "public = public.merge(fire_counts, left_on=['std_addr', 'std_city', 'std_zip5'], right_on=['address', 'city', 'zip5'], how='left').drop(['address', 'city', 'zip5'], axis=1)\n",
    "public[['house_fires', 'cooking_fires', 'all_fires']] = public[['house_fires', 'cooking_fires', 'all_fires']].fillna(0).astype(int)\n",
    "\n",
    "# For the 2020-2021 validation data\n",
    "fire_specific = df[(df['inc_type'].isin([111, 113]))&(df.inc_year.astype(int) >= 2020)].groupby(['address', 'city', 'zip5', 'inc_type']).size().unstack().reset_index()\n",
    "fire_specific.columns = ['address', 'city', 'zip5', 'house_fires_20-21', 'cooking_fires_20-21']\n",
    "all_fires = df.groupby(['address', 'city', 'zip5']).size().reset_index(name='all_fires_20-21')\n",
    "fire_counts = fire_specific.merge(all_fires, on=['address', 'city', 'zip5'], how='outer')\n",
    "fire_counts = fire_counts.fillna(0) \n",
    "public = public.merge(fire_counts, left_on=['std_addr', 'std_city', 'std_zip5'], right_on=['address', 'city', 'zip5'], how='left').drop(['address', 'city', 'zip5'], axis=1)\n",
    "public[['house_fires_20-21', 'cooking_fires_20-21', 'all_fires_20-21']] = public[['house_fires_20-21', 'cooking_fires_20-21', 'all_fires_20-21']].fillna(0).astype(int)\n"
   ]
  },
  {
   "cell_type": "code",
   "execution_count": 29,
   "metadata": {},
   "outputs": [
    {
     "ename": "NameError",
     "evalue": "name 'pearsonr' is not defined",
     "output_type": "error",
     "traceback": [
      "\u001b[1;31m---------------------------------------------------------------------------\u001b[0m",
      "\u001b[1;31mNameError\u001b[0m                                 Traceback (most recent call last)",
      "Cell \u001b[1;32mIn[29], line 11\u001b[0m\n\u001b[0;32m      4\u001b[0m \u001b[39mfor\u001b[39;00m col \u001b[39min\u001b[39;00m public\u001b[39m.\u001b[39mselect_dtypes(include\u001b[39m=\u001b[39m\u001b[39m'\u001b[39m\u001b[39mnumber\u001b[39m\u001b[39m'\u001b[39m)\u001b[39m.\u001b[39mcolumns:\n\u001b[0;32m      5\u001b[0m     \u001b[39mif\u001b[39;00m col \u001b[39mnot\u001b[39;00m \u001b[39min\u001b[39;00m [\u001b[39m'\u001b[39m\u001b[39mall_fires\u001b[39m\u001b[39m'\u001b[39m, \u001b[39m'\u001b[39m\u001b[39mblock2kx\u001b[39m\u001b[39m'\u001b[39m, \u001b[39m'\u001b[39m\u001b[39mbg2kx\u001b[39m\u001b[39m'\u001b[39m, \u001b[39m'\u001b[39m\u001b[39mplace_inc2kx\u001b[39m\u001b[39m'\u001b[39m, \n\u001b[0;32m      6\u001b[0m                    \u001b[39m'\u001b[39m\u001b[39mhlc\u001b[39m\u001b[39m'\u001b[39m, \u001b[39m'\u001b[39m\u001b[39mdpvrc\u001b[39m\u001b[39m'\u001b[39m, \u001b[39m'\u001b[39m\u001b[39mstd_zip9\u001b[39m\u001b[39m'\u001b[39m, \u001b[39m'\u001b[39m\u001b[39mdpbc\u001b[39m\u001b[39m'\u001b[39m, \u001b[39m'\u001b[39m\u001b[39mdpbc_cksum\u001b[39m\u001b[39m'\u001b[39m, \u001b[39m'\u001b[39m\u001b[39mstd_zip11\u001b[39m\u001b[39m'\u001b[39m, \n\u001b[0;32m      7\u001b[0m                    \u001b[39m'\u001b[39m\u001b[39mc1pprb\u001b[39m\u001b[39m'\u001b[39m, \u001b[39m'\u001b[39m\u001b[39mblkgrp_level\u001b[39m\u001b[39m'\u001b[39m, \u001b[39m'\u001b[39m\u001b[39mexec_dir_fax\u001b[39m\u001b[39m'\u001b[39m, \n\u001b[0;32m      8\u001b[0m                    \u001b[39m'\u001b[39m\u001b[39mnational_bldg_id\u001b[39m\u001b[39m'\u001b[39m, \u001b[39m'\u001b[39m\u001b[39mdpvact\u001b[39m\u001b[39m'\u001b[39m, \u001b[39m'\u001b[39m\u001b[39mdpvnost\u001b[39m\u001b[39m'\u001b[39m, \u001b[39m'\u001b[39m\u001b[39mplace2kx\u001b[39m\u001b[39m'\u001b[39m,\n\u001b[0;32m      9\u001b[0m                    \u001b[39m'\u001b[39m\u001b[39mdpv\u001b[39m\u001b[39m'\u001b[39m, \u001b[39m'\u001b[39m\u001b[39mzcta2kx\u001b[39m\u001b[39m'\u001b[39m, \u001b[39m'\u001b[39m\u001b[39mplace_level\u001b[39m\u001b[39m'\u001b[39m, \u001b[39m'\u001b[39m\u001b[39mannl_expns_amnt_prev_yr\u001b[39m\u001b[39m'\u001b[39m]:\n\u001b[0;32m     10\u001b[0m         \u001b[39m# Get correlation and p-value\u001b[39;00m\n\u001b[1;32m---> 11\u001b[0m         correlation, p_value \u001b[39m=\u001b[39m pearsonr(public[col], public[\u001b[39m'\u001b[39m\u001b[39mall_fires\u001b[39m\u001b[39m'\u001b[39m])\n\u001b[0;32m     12\u001b[0m         corrs\u001b[39m.\u001b[39mappend((col, correlation, p_value))\n\u001b[0;32m     14\u001b[0m corrs_df \u001b[39m=\u001b[39m pd\u001b[39m.\u001b[39mDataFrame(corrs, columns\u001b[39m=\u001b[39m[\u001b[39m'\u001b[39m\u001b[39mcolumns\u001b[39m\u001b[39m'\u001b[39m, \u001b[39m'\u001b[39m\u001b[39mcorr\u001b[39m\u001b[39m'\u001b[39m, \u001b[39m'\u001b[39m\u001b[39mp_value\u001b[39m\u001b[39m'\u001b[39m])\n",
      "\u001b[1;31mNameError\u001b[0m: name 'pearsonr' is not defined"
     ]
    }
   ],
   "source": [
    "# corrs = []\n",
    "\n",
    "# # Iterate over numerical columns in pr\n",
    "# for col in public.select_dtypes(include='number').columns:\n",
    "#     if col not in ['all_fires', 'block2kx', 'bg2kx', 'place_inc2kx', \n",
    "#                    'hlc', 'dpvrc', 'std_zip9', 'dpbc', 'dpbc_cksum', 'std_zip11', \n",
    "#                    'c1pprb', 'blkgrp_level', 'exec_dir_fax', \n",
    "#                    'national_bldg_id', 'dpvact', 'dpvnost', 'place2kx',\n",
    "#                    'dpv', 'zcta2kx', 'place_level', 'annl_expns_amnt_prev_yr']:\n",
    "#         # Get correlation and p-value\n",
    "#         correlation, p_value = pearsonr(public[col], public['all_fires'])\n",
    "#         corrs.append((col, correlation, p_value))\n",
    "\n",
    "# corrs_df = pd.DataFrame(corrs, columns=['columns', 'corr', 'p_value'])\n",
    "# corrs_df['significant'] = corrs_df['p_value'] < 0.05"
   ]
  },
  {
   "cell_type": "code",
   "execution_count": 30,
   "metadata": {},
   "outputs": [],
   "source": [
    "public.to_csv('pa_fires_in_ph.csv', index=False)"
   ]
  }
 ],
 "metadata": {
  "kernelspec": {
   "display_name": "base",
   "language": "python",
   "name": "python3"
  },
  "language_info": {
   "codemirror_mode": {
    "name": "ipython",
    "version": 3
   },
   "file_extension": ".py",
   "mimetype": "text/x-python",
   "name": "python",
   "nbconvert_exporter": "python",
   "pygments_lexer": "ipython3",
   "version": "3.10.9"
  },
  "orig_nbformat": 4
 },
 "nbformat": 4,
 "nbformat_minor": 2
}
